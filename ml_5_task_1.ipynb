{
 "cells": [
  {
   "cell_type": "markdown",
   "id": "ce7cb10d-6adc-4a5b-91ac-9929aeedf27f",
   "metadata": {},
   "source": [
    "## Задание\n",
    "\n",
    "Попробуйте повысить точность нашей модели:\n",
    "\n",
    "- увеличьте количество эпох;\n",
    "- увеличьте количество нейронов;\n",
    "- добавьте новые скрытые слои;\n",
    "- измените размер мини-пакета.\n",
    "\n",
    "При желании придумайте, как визуализировать работу модели на тестовых данных (показывать изображения и соответствующий им распознанный класс)."
   ]
  },
  {
   "cell_type": "code",
   "execution_count": 37,
   "id": "3105e298-4a18-45ef-bb36-3ce7b95a2c0f",
   "metadata": {},
   "outputs": [],
   "source": [
    "import numpy as np\n",
    "\n",
    "import torch\n",
    "import torch.nn as nn\n",
    "from torch import optim, nn\n",
    "import torchvision\n",
    "import torchvision.datasets as dsets\n",
    "import torchvision.transforms as transforms\n",
    "\n",
    "import matplotlib.pyplot as plt\n",
    "plt.style.use(\"ggplot\")"
   ]
  },
  {
   "cell_type": "code",
   "execution_count": 38,
   "id": "d56d8c83-0b92-438e-b8d6-8dc3736c88c2",
   "metadata": {},
   "outputs": [],
   "source": [
    "def make_train_step(model, loss_fn, optimizer):\n",
    "    def train_step(x, y):\n",
    "        model.train()\n",
    "        yhat = model(x)\n",
    "        loss = loss_fn(yhat, y)\n",
    "        loss.backward()\n",
    "        optimizer.step()\n",
    "        optimizer.zero_grad()\n",
    "        return loss.item()\n",
    "    return train_step\n",
    "\n",
    "\n",
    "def plot_learning_curve(loss_array: list):\n",
    "    plt.figure(figsize=(8, 4))\n",
    "    plt.plot(range(len(loss_array)), loss_array)\n",
    "    plt.title('Learning curve')\n",
    "    plt.xlabel('Epoch')\n",
    "    plt.ylabel('Loss')\n",
    "    plt.show()"
   ]
  },
  {
   "cell_type": "code",
   "execution_count": 5,
   "id": "74f0705d-6fe5-4aa7-be75-0e5bfedc1e1d",
   "metadata": {},
   "outputs": [],
   "source": [
    "# Configs\n",
    "INPUT_SIZE = 28*28     # Размер изображения в точках\n",
    "HIDDEN_SIZE = 500      # Количество нейронов в скрытом слое\n",
    "NUM_CLASSES = 10       # Количество распознающихся классов (10 цифр)\n",
    "N_EPOCHS = 2           # Количество эпох\n",
    "BATCH_SIZE = 4         # Размер мини-пакета входных данных\n",
    "LR = 0.01              # Скорость обучения\n",
    "\n",
    "# инициализируем девайс\n",
    "device = 'cuda' if torch.cuda.is_available() else 'cpu'"
   ]
  },
  {
   "cell_type": "code",
   "execution_count": 6,
   "id": "34e0179a-aef3-479d-b0f9-980af9277f12",
   "metadata": {
    "scrolled": true
   },
   "outputs": [
    {
     "name": "stdout",
     "output_type": "stream",
     "text": [
      "Downloading http://yann.lecun.com/exdb/mnist/train-images-idx3-ubyte.gz\n",
      "Failed to download (trying next):\n",
      "HTTP Error 403: Forbidden\n",
      "\n",
      "Downloading https://ossci-datasets.s3.amazonaws.com/mnist/train-images-idx3-ubyte.gz\n",
      "Downloading https://ossci-datasets.s3.amazonaws.com/mnist/train-images-idx3-ubyte.gz to ./data/MNIST/raw/train-images-idx3-ubyte.gz\n"
     ]
    },
    {
     "name": "stderr",
     "output_type": "stream",
     "text": [
      "100%|███████████████████████████████████████████████████████████| 9912422/9912422 [16:42<00:00, 9891.04it/s]\n"
     ]
    },
    {
     "name": "stdout",
     "output_type": "stream",
     "text": [
      "Extracting ./data/MNIST/raw/train-images-idx3-ubyte.gz to ./data/MNIST/raw\n",
      "\n",
      "Downloading http://yann.lecun.com/exdb/mnist/train-labels-idx1-ubyte.gz\n",
      "Failed to download (trying next):\n",
      "HTTP Error 403: Forbidden\n",
      "\n",
      "Downloading https://ossci-datasets.s3.amazonaws.com/mnist/train-labels-idx1-ubyte.gz\n",
      "Downloading https://ossci-datasets.s3.amazonaws.com/mnist/train-labels-idx1-ubyte.gz to ./data/MNIST/raw/train-labels-idx1-ubyte.gz\n"
     ]
    },
    {
     "name": "stderr",
     "output_type": "stream",
     "text": [
      "100%|██████████████████████████████████████████████████████████████| 28881/28881 [00:00<00:00, 32517.34it/s]\n"
     ]
    },
    {
     "name": "stdout",
     "output_type": "stream",
     "text": [
      "Extracting ./data/MNIST/raw/train-labels-idx1-ubyte.gz to ./data/MNIST/raw\n",
      "\n",
      "Downloading http://yann.lecun.com/exdb/mnist/t10k-images-idx3-ubyte.gz\n",
      "Failed to download (trying next):\n",
      "HTTP Error 403: Forbidden\n",
      "\n",
      "Downloading https://ossci-datasets.s3.amazonaws.com/mnist/t10k-images-idx3-ubyte.gz\n",
      "Downloading https://ossci-datasets.s3.amazonaws.com/mnist/t10k-images-idx3-ubyte.gz to ./data/MNIST/raw/t10k-images-idx3-ubyte.gz\n"
     ]
    },
    {
     "name": "stderr",
     "output_type": "stream",
     "text": [
      "100%|██████████████████████████████████████████████████████████| 1648877/1648877 [01:37<00:00, 16976.14it/s]\n"
     ]
    },
    {
     "name": "stdout",
     "output_type": "stream",
     "text": [
      "Extracting ./data/MNIST/raw/t10k-images-idx3-ubyte.gz to ./data/MNIST/raw\n",
      "\n",
      "Downloading http://yann.lecun.com/exdb/mnist/t10k-labels-idx1-ubyte.gz\n",
      "Failed to download (trying next):\n",
      "HTTP Error 403: Forbidden\n",
      "\n",
      "Downloading https://ossci-datasets.s3.amazonaws.com/mnist/t10k-labels-idx1-ubyte.gz\n",
      "Downloading https://ossci-datasets.s3.amazonaws.com/mnist/t10k-labels-idx1-ubyte.gz to ./data/MNIST/raw/t10k-labels-idx1-ubyte.gz\n"
     ]
    },
    {
     "name": "stderr",
     "output_type": "stream",
     "text": [
      "100%|█████████████████████████████████████████████████████████████| 4542/4542 [00:00<00:00, 14248712.62it/s]"
     ]
    },
    {
     "name": "stdout",
     "output_type": "stream",
     "text": [
      "Extracting ./data/MNIST/raw/t10k-labels-idx1-ubyte.gz to ./data/MNIST/raw\n",
      "\n",
      "60000\n",
      "10000\n"
     ]
    },
    {
     "name": "stderr",
     "output_type": "stream",
     "text": [
      "\n"
     ]
    }
   ],
   "source": [
    "# Load dataset\n",
    "mnist_trainset = dsets.MNIST(root='./data', train=True, download=True, transform=transforms.ToTensor())\n",
    "mnist_testset = dsets.MNIST(root='./data', train=False, download=True, transform=transforms.ToTensor())\n",
    "print(len(mnist_trainset))\n",
    "print(len(mnist_testset))"
   ]
  },
  {
   "cell_type": "code",
   "execution_count": 10,
   "id": "701c5932-16c6-4dfc-aaec-de6ca85dfca3",
   "metadata": {},
   "outputs": [],
   "source": [
    "# загрузчик обучающих данных\n",
    "train_loader = torch.utils.data.DataLoader(\n",
    "    dataset=mnist_trainset,\n",
    "    batch_size=BATCH_SIZE,\n",
    "    shuffle=True\n",
    ") \n",
    "# загрузчик тестовых данных\n",
    "test_loader = torch.utils.data.DataLoader(\n",
    "    dataset=mnist_testset,\n",
    "    batch_size=BATCH_SIZE,\n",
    "    shuffle=False\n",
    ") "
   ]
  },
  {
   "cell_type": "code",
   "execution_count": null,
   "id": "4194e924-4c51-46b2-bf24-b0c76caade36",
   "metadata": {},
   "outputs": [],
   "source": []
  },
  {
   "cell_type": "code",
   "execution_count": null,
   "id": "3adff09f-4b3d-4f26-ab16-0100612eb052",
   "metadata": {},
   "outputs": [],
   "source": []
  },
  {
   "cell_type": "markdown",
   "id": "1eecc7bb-537e-4df7-bf88-2e917caeb7c5",
   "metadata": {},
   "source": [
    "## 3. Fit Model"
   ]
  },
  {
   "cell_type": "code",
   "execution_count": null,
   "id": "e560869b-0179-4ea8-b746-05865e0e7b17",
   "metadata": {},
   "outputs": [],
   "source": []
  },
  {
   "cell_type": "code",
   "execution_count": null,
   "id": "351e4b62-4292-47ed-8137-aa11dc930b83",
   "metadata": {},
   "outputs": [],
   "source": []
  },
  {
   "cell_type": "markdown",
   "id": "dc1a0922-5cfd-4c90-9fcb-9e2a6af15bd6",
   "metadata": {},
   "source": [
    "### 3.1. Baseline"
   ]
  },
  {
   "cell_type": "code",
   "execution_count": 11,
   "id": "9b1605b9-10ef-4ee4-9b1f-b6681ebeb29c",
   "metadata": {
    "scrolled": true
   },
   "outputs": [
    {
     "name": "stdout",
     "output_type": "stream",
     "text": [
      "CPU times: user 1 µs, sys: 0 ns, total: 1 µs\n",
      "Wall time: 3.1 µs\n",
      "0\n",
      "1\n",
      "OrderedDict([('0.weight', tensor([[-0.0345, -0.0115, -0.0192,  ..., -0.0181,  0.0271,  0.0326],\n",
      "        [ 0.0045,  0.0270,  0.0309,  ...,  0.0045,  0.0232, -0.0043],\n",
      "        [ 0.0115,  0.0191, -0.0295,  ..., -0.0041,  0.0121, -0.0233],\n",
      "        ...,\n",
      "        [-0.0082,  0.0249, -0.0137,  ..., -0.0118, -0.0335, -0.0226],\n",
      "        [-0.0195,  0.0305,  0.0340,  ...,  0.0334,  0.0275,  0.0016],\n",
      "        [-0.0314, -0.0256, -0.0268,  ...,  0.0337, -0.0183, -0.0303]],\n",
      "       device='cuda:0')), ('0.bias', tensor([-8.7272e-02, -7.5779e-02, -7.4870e-02, -5.1203e-01, -2.7420e-01,\n",
      "        -6.2386e-02, -1.3750e-01, -3.5392e-01, -8.0126e-02, -3.2120e-02,\n",
      "        -2.1176e-01, -9.5897e-02, -3.4139e-02, -9.5141e-01, -5.4845e-01,\n",
      "        -3.9295e-01, -1.0480e-01, -8.2005e-02, -7.2878e-02, -5.0986e-02,\n",
      "        -3.9237e+00, -8.1039e-02, -1.9193e-01, -1.4298e-01, -1.3016e-01,\n",
      "        -6.8146e-02, -4.4418e-01, -4.7477e-02, -7.5032e-02, -1.4601e+00,\n",
      "        -1.3723e-01, -7.7911e-02, -6.7115e-02, -5.0533e-01, -3.7331e-02,\n",
      "        -1.4763e+00, -9.9336e-02, -3.5394e-02, -1.1131e-01, -3.6027e-02,\n",
      "        -9.7195e-02, -7.5014e-02, -3.7535e-02, -2.6257e-01,  1.4541e+00,\n",
      "        -7.8124e-02, -1.5315e+00, -7.8798e-02, -7.4208e-02, -6.9434e-01,\n",
      "        -8.7473e-02, -4.9879e-01, -4.0082e-02, -7.4423e-02, -9.4133e-01,\n",
      "        -4.0436e-01, -3.8898e-02, -5.5755e-02, -3.3959e-01, -3.9495e-02,\n",
      "        -5.8338e-02, -5.2286e-02, -7.1158e-02, -2.0904e-02, -4.9623e-02,\n",
      "        -5.8378e-02, -4.4922e-02, -8.2501e-02, -6.7743e-01, -6.0863e-02,\n",
      "        -1.0172e-01, -1.0245e+00, -1.0260e-01, -1.0814e-01, -6.0936e-02,\n",
      "        -4.1777e-02, -4.7593e-02, -2.7002e-02, -7.6662e-02, -7.5723e-01,\n",
      "        -8.8882e-02, -6.2035e-02, -6.9447e-01, -4.8030e-01, -9.4035e-01,\n",
      "        -9.3603e-02, -4.0616e-02, -9.1023e-02, -8.7155e-02, -3.9168e-01,\n",
      "        -9.7938e-02, -1.1687e-01, -3.9704e-01, -2.8493e-02, -8.6495e-02,\n",
      "        -6.9054e-02, -7.1650e-02, -6.3457e-02, -3.7039e-01, -2.1857e-01,\n",
      "        -5.6573e-01, -1.7962e-02, -4.6474e-02, -2.9104e-01, -3.8143e-02,\n",
      "        -1.0838e-01, -4.2685e-01, -9.4711e-02, -2.4121e-02, -9.0907e-02,\n",
      "        -8.5305e-01, -3.3214e-02, -6.7754e-02, -4.4566e-02, -1.0878e-01,\n",
      "        -6.5590e-02, -3.5011e-01, -7.6388e-02, -7.5812e-02, -1.5015e-01,\n",
      "        -1.5154e-01, -5.9395e-02, -3.9374e-01, -4.4852e-02,  2.5888e-01,\n",
      "        -6.2949e-02, -8.6135e-02, -9.9141e-02, -4.6105e-02, -2.9286e-02,\n",
      "        -1.2130e+00, -3.2136e-01, -5.8649e-02, -7.5092e-02, -8.4864e-02,\n",
      "        -2.7451e-02, -5.3959e-02, -6.3380e-02, -4.3753e-02, -2.2760e-01,\n",
      "        -7.8092e-02, -2.5181e+00, -6.0340e-01, -3.0138e-01, -6.5882e-01,\n",
      "        -3.6380e-02, -5.0865e-02, -2.6720e-01, -6.7657e-01, -6.2584e-02,\n",
      "        -4.5177e-01, -1.3519e-01, -2.0384e-01, -4.4421e-01, -1.3947e+00,\n",
      "        -4.1280e-01, -2.5924e-02, -9.5606e-02, -1.5367e-01, -6.7667e-02,\n",
      "        -6.8023e-02, -3.2480e-01, -9.1095e-01, -3.5224e-01, -1.2255e+00,\n",
      "        -8.2046e-02, -6.3645e-01, -2.9513e-01, -4.6246e-01, -5.0866e-02,\n",
      "        -1.3428e-01, -4.1324e-01, -2.4686e-01, -5.0733e-02, -3.9109e-02,\n",
      "        -1.2197e-01, -8.6124e-02, -1.8900e-01, -4.2553e-02, -3.0520e-02,\n",
      "        -2.0379e-02, -4.6212e-02, -2.0505e-02, -6.1041e-02, -5.6671e-02,\n",
      "        -1.4298e+00, -1.0133e+00, -1.1177e-01, -5.2207e-02, -5.9807e-02,\n",
      "        -4.3222e-02, -3.2616e-02, -8.6620e-01, -9.0728e-02, -1.0933e-01,\n",
      "        -1.5186e+00, -2.9785e-02, -2.7793e-01, -4.0127e-01, -7.3395e-02,\n",
      "        -9.2087e-02, -9.7029e-02, -5.9635e-02, -9.4336e-02, -1.7435e-01,\n",
      "        -3.9918e-02, -3.6176e-02, -1.3358e-01, -7.8181e-02, -8.5857e-02,\n",
      "        -1.3987e+00, -4.4759e-02, -8.2518e-01, -2.8164e-02, -5.6516e-02,\n",
      "        -1.1589e-01, -5.4324e-02, -8.7290e-02, -1.1014e-01, -3.3595e-02,\n",
      "        -1.1190e-01, -5.3947e-02, -3.6897e-01, -1.7889e+00, -4.4233e-02,\n",
      "        -8.0720e-02, -1.3744e-01, -9.8637e-02, -6.4547e-02, -6.0225e-02,\n",
      "        -5.0114e-02, -3.9810e-01, -4.4864e-02, -3.8297e-02, -3.4946e-01,\n",
      "        -5.5648e-02, -2.4984e-01, -9.0308e-02, -5.7956e-02, -6.3989e-02,\n",
      "        -4.3024e-01, -2.5826e+00, -1.2770e-01, -5.7889e-02, -2.8462e-02,\n",
      "        -6.1878e-02, -5.5045e-01, -8.5453e-01, -5.2970e-01, -1.8382e-01,\n",
      "        -3.8874e-01, -8.2047e-02, -8.8757e-02, -3.1456e-01, -9.6556e-01,\n",
      "        -2.7068e-01, -5.8546e-01, -1.7177e-01, -3.7685e-02, -7.9923e-02,\n",
      "        -6.6843e-01, -1.2346e-01, -3.9614e-01, -2.1528e+00, -1.0002e-01,\n",
      "        -6.1428e-02, -5.5215e-02, -6.9400e-02,  1.4245e-04, -1.7525e-01,\n",
      "        -3.4384e-01, -1.2805e-01, -6.3341e-02, -2.5103e-02, -1.9080e-01,\n",
      "        -4.1925e-02, -4.0247e-01, -9.5528e-02, -7.3637e-02, -7.5991e-02,\n",
      "        -7.9450e-02, -6.6864e-01, -3.7666e-02, -4.8773e-02, -6.2401e-02,\n",
      "        -3.0434e-01, -7.2187e-02, -3.1318e-01, -4.0228e-01, -1.7900e-01,\n",
      "        -1.1097e-01, -1.0966e-01, -9.3502e-02,  5.4062e-02, -1.0014e+00,\n",
      "        -1.9700e-01, -5.6310e-02, -8.0455e-02, -5.1440e-02, -9.5762e-02,\n",
      "        -3.9404e-01, -8.7226e-02, -7.5743e-02, -3.8429e-01, -3.8330e-01,\n",
      "        -4.1637e-01, -8.1737e-02, -5.9797e-02, -5.2545e-01, -9.9163e-02,\n",
      "        -3.5603e-01, -1.0138e-01, -6.5330e-02, -5.9499e-02, -1.7697e-02,\n",
      "        -9.0830e-02, -1.4554e-01, -1.2893e-01, -8.1634e-02, -6.5418e-01,\n",
      "        -3.6995e-02, -7.7982e-02, -3.4956e-01, -2.9094e-02, -7.7153e-02,\n",
      "        -3.9034e-02, -3.1698e+00, -3.1179e-01, -2.0947e-02, -3.3821e-01,\n",
      "        -1.7157e-01, -9.2737e-02, -8.6377e-02, -6.3370e-02, -3.0366e-01,\n",
      "        -8.4524e-01, -5.8435e-02, -1.1003e+00, -6.2004e-02, -7.8771e-02,\n",
      "        -4.9231e-02, -1.8817e-01, -2.4607e-02, -3.9604e-01, -7.2198e-02,\n",
      "        -6.6971e-02, -1.1756e-01, -1.9178e-01, -5.6945e-02, -1.0446e+00,\n",
      "        -1.0974e-01, -7.3700e-02, -7.2962e-01, -4.9505e-02, -8.7390e-02,\n",
      "        -1.9391e-02, -2.4572e-01, -1.0165e+00, -2.3710e-01, -2.8101e-02,\n",
      "        -1.3126e-01, -3.3996e-01, -6.5784e-02, -4.5549e-01, -2.1015e-01,\n",
      "        -3.9944e-02, -1.8752e-01, -2.6720e-01, -1.4622e-01, -8.2564e-02,\n",
      "        -7.6974e-02, -2.9046e-01, -5.6102e-02, -8.7202e-02, -1.3646e+00,\n",
      "        -1.0149e-01, -5.3865e-01, -3.8671e-01, -8.6811e-02, -3.0121e-01,\n",
      "        -7.1070e-02, -4.3774e-01, -5.0592e-01, -7.4287e-02, -2.7824e-01,\n",
      "        -8.4644e-02, -6.1957e-02, -7.9302e-01, -1.0708e-01, -1.4978e+00,\n",
      "        -7.1821e-02, -1.3472e-01, -6.1989e-02, -6.4515e-02, -4.0837e-01,\n",
      "        -6.6768e-02, -6.0670e-02, -2.3777e-02, -7.3548e-01, -4.8515e-02,\n",
      "        -1.0242e-01, -9.3596e-02, -4.3493e-01, -1.6490e+00, -5.3364e-02,\n",
      "        -3.3328e-02, -3.4733e-01, -3.2356e-01, -8.8068e-02, -8.1359e-02,\n",
      "        -5.3931e-02, -8.0267e-02, -4.7524e-01, -3.4346e-01, -6.4194e-02,\n",
      "        -1.0508e-01, -1.4727e+00, -8.4562e-02, -5.4131e-02, -1.8863e+00,\n",
      "        -3.2203e-02, -3.0656e-02, -3.3986e-02, -5.1274e-02, -8.1012e-02,\n",
      "        -5.7047e-02, -1.4046e-01, -3.9104e-02, -3.7822e-02, -8.2025e-02,\n",
      "        -3.2318e-02, -1.3943e+00, -4.8023e-01, -1.2009e+00, -2.5905e-02,\n",
      "        -5.8307e-01, -7.2044e-02, -6.8968e-02, -6.2683e-02, -7.6485e-01,\n",
      "        -3.5136e-02, -1.0139e-01, -4.6291e-01, -9.1514e-02, -4.6169e-02,\n",
      "        -1.7003e-01, -3.6961e-01, -7.5907e-02, -7.7819e-02, -9.5208e-02,\n",
      "        -3.5618e-02, -4.5428e-02, -8.4323e-01, -1.3019e+00, -1.0686e-01,\n",
      "        -7.7986e-02, -2.9267e-01, -6.5960e-02, -2.4401e-01, -9.5321e-02,\n",
      "        -5.3107e-02, -4.5189e-02, -1.3768e-01, -4.7833e-02, -5.5766e-01,\n",
      "        -9.5626e-02, -9.0658e-02, -7.6414e-02, -8.6674e-02, -2.4570e-01,\n",
      "        -3.3601e-01, -2.6092e-02, -3.5056e-01, -6.3962e-02, -6.0170e-02,\n",
      "        -2.4749e-02, -5.0454e-02, -4.5561e-02, -3.0171e+00, -6.7398e-02,\n",
      "        -1.0313e-01, -9.5834e-02, -3.3792e-02, -4.5139e-02, -5.7535e-01,\n",
      "        -3.1284e-02, -6.7166e-02, -3.0227e-02, -4.3096e-02, -1.2177e+00,\n",
      "        -1.1246e-01, -2.4081e-01, -4.0096e-01, -9.2318e-02, -1.3247e+00,\n",
      "        -7.5195e-02, -7.7024e-02, -1.4035e+00, -8.8090e-02, -5.2584e-02],\n",
      "       device='cuda:0')), ('2.weight', tensor([[-9.5094e-02,  5.7099e-02,  1.7172e-02,  ..., -1.4308e+00,\n",
      "          6.6998e-02,  2.7734e-02],\n",
      "        [-7.7218e-02, -3.5380e-02,  7.3657e-03,  ..., -2.5725e+00,\n",
      "          3.7145e-02, -2.7473e-02],\n",
      "        [-6.0797e-02, -8.6944e-02, -6.7859e-02,  ..., -6.8738e-01,\n",
      "         -5.7167e-02, -1.2680e-03],\n",
      "        ...,\n",
      "        [-6.9036e-02, -6.1375e-02,  6.5903e-02,  ..., -1.7146e-01,\n",
      "          3.0411e-02, -9.8225e-02],\n",
      "        [-1.6126e-02, -1.7599e-02, -5.2260e-02,  ..., -1.7399e+00,\n",
      "         -1.0790e-01, -1.9095e-02],\n",
      "        [-8.3641e-02, -3.0345e-02, -8.6673e-02,  ...,  4.1565e-01,\n",
      "         -1.1794e-01, -6.4162e-02]], device='cuda:0')), ('2.bias', tensor([ 0.5593, -1.7271, -0.4965, -0.4584, -0.0135, -0.6121, -0.5750, -0.2837,\n",
      "         1.5527,  0.5874], device='cuda:0'))])\n",
      "0.298507422208786\n"
     ]
    }
   ],
   "source": [
    "%time\n",
    "\n",
    "model = torch.nn.Sequential(\n",
    "    nn.Linear(INPUT_SIZE, HIDDEN_SIZE),\n",
    "    nn.ReLU(),\n",
    "    nn.Linear(HIDDEN_SIZE, NUM_CLASSES))\n",
    "model.to(device)\n",
    "\n",
    "loss_fn = torch.nn.CrossEntropyLoss()\n",
    "optimizer = optim.Adam(model.parameters(), lr=LR)\n",
    "\n",
    "train_step = make_train_step(model, loss_fn, optimizer)\n",
    "\n",
    "for epoch in range(N_EPOCHS):\n",
    "    for images, labels in train_loader:\n",
    "        images = images.reshape(-1, 28*28).to(device)\n",
    "        images = images.to(device)\n",
    "        labels = labels.to(device)\n",
    "        loss = train_step(images, labels)\n",
    "    print(epoch)\n",
    "\n",
    "print(model.state_dict())\n",
    "print(loss)"
   ]
  },
  {
   "cell_type": "code",
   "execution_count": 12,
   "id": "a85a61f2-6150-42ca-a74e-9aaabb1eaafc",
   "metadata": {},
   "outputs": [
    {
     "name": "stdout",
     "output_type": "stream",
     "text": [
      "Точность: 93.01 %\n"
     ]
    }
   ],
   "source": [
    "with torch.no_grad():\n",
    "    correct = 0\n",
    "    total = 0\n",
    "    for images, labels in test_loader:\n",
    "        images = images.reshape(-1, 28*28).to(device)\n",
    "        images = images.to(device)\n",
    "        labels = labels.to(device)\n",
    "        outputs = model(images)\n",
    "        _, predicted = torch.max(outputs.data, 1)\n",
    "        total += labels.size(0)\n",
    "        correct += (predicted == labels).sum().item()\n",
    "\n",
    "    print('Точность: {} %'.format(100 * correct / total))"
   ]
  },
  {
   "cell_type": "code",
   "execution_count": 13,
   "id": "65d14736-db26-48de-8848-662f3798d787",
   "metadata": {},
   "outputs": [],
   "source": [
    "torch.save(model, 'models/baseline_mnist_full.pt')"
   ]
  },
  {
   "cell_type": "code",
   "execution_count": null,
   "id": "6867a4c9-de05-47fc-b698-a44805fefa11",
   "metadata": {},
   "outputs": [],
   "source": [
    "# model = torch.load(\"mnist_full.pt\")\n",
    "# model.eval() # После загрузки модели надо обязательно выполнить её метод eval() -- это означает, что мы будем пользоваться моделью в режиме её эксплуатации, а не в режимах обучения или каких-то других."
   ]
  },
  {
   "cell_type": "code",
   "execution_count": null,
   "id": "6a8eeffc-f2d8-4d61-b3c9-d8a9c68d34eb",
   "metadata": {},
   "outputs": [],
   "source": []
  },
  {
   "cell_type": "code",
   "execution_count": null,
   "id": "a312c868-d6d8-43f8-a047-66527c5aef0d",
   "metadata": {},
   "outputs": [],
   "source": []
  },
  {
   "cell_type": "markdown",
   "id": "5c091881-2b6e-4d8a-a8b0-847076aa59a8",
   "metadata": {},
   "source": [
    "### 3.2. Experiments"
   ]
  },
  {
   "cell_type": "markdown",
   "id": "0edb264d-1d60-4c70-acb5-159562d7226d",
   "metadata": {},
   "source": [
    "Попробуем улучшить существующую модель, поработав со следующими параметрами:\n",
    "\n",
    "- увеличьте количество эпох;\n",
    "- увеличьте количество нейронов;\n",
    "- добавьте новые скрытые слои;\n",
    "- измените размер мини-пакета."
   ]
  },
  {
   "cell_type": "code",
   "execution_count": null,
   "id": "6910b3b6-8d0b-48b4-8079-79429cc5ec9d",
   "metadata": {},
   "outputs": [],
   "source": []
  },
  {
   "cell_type": "code",
   "execution_count": null,
   "id": "579c63b5-f907-4f65-b8f8-c8fc99980a60",
   "metadata": {},
   "outputs": [],
   "source": []
  },
  {
   "cell_type": "markdown",
   "id": "dcaec30e-9088-4a8f-b26f-d15e56f402ea",
   "metadata": {},
   "source": [
    "#### Модифицированный baseline"
   ]
  },
  {
   "cell_type": "markdown",
   "id": "6882cdf5-0746-4fcc-915f-62fb21e23c9f",
   "metadata": {},
   "source": [
    "Начнём с того, что постараемся улучшить наш baseline"
   ]
  },
  {
   "cell_type": "code",
   "execution_count": 41,
   "id": "1b13e8fc-4927-4455-b4eb-a4a7c3f20146",
   "metadata": {},
   "outputs": [],
   "source": [
    "class BaselineMNISTModel(nn.Module):\n",
    "    def __init__(self, input_size: int, hidden_size: int):\n",
    "        super(BaselineMNISTModel, self).__init__()\n",
    "        self.seq = torch.nn.Sequential(\n",
    "            nn.Linear(input_size, hidden_size),\n",
    "            nn.ReLU(),\n",
    "            nn.Linear(hidden_size, 10)\n",
    "        )\n",
    "\n",
    "    def forward(self, x):\n",
    "        return self.seq(x)"
   ]
  },
  {
   "cell_type": "code",
   "execution_count": 42,
   "id": "96f69c00-7df7-43b1-84e9-c278e9438fb0",
   "metadata": {
    "scrolled": true
   },
   "outputs": [
    {
     "name": "stdout",
     "output_type": "stream",
     "text": [
      "0\n",
      "1\n",
      "2\n",
      "3\n",
      "4\n",
      "5\n",
      "6\n",
      "7\n",
      "8\n",
      "9\n",
      "10\n",
      "11\n",
      "12\n",
      "13\n",
      "14\n",
      "15\n",
      "16\n",
      "17\n",
      "18\n",
      "19\n",
      "OrderedDict([('seq.0.weight', tensor([[-0.0055, -0.0062,  0.0259,  ...,  0.0303,  0.0173, -0.0306],\n",
      "        [-0.0118,  0.0020,  0.0014,  ...,  0.0118,  0.0101,  0.0067],\n",
      "        [-0.0141, -0.0117, -0.0075,  ..., -0.0224,  0.0163, -0.0136],\n",
      "        ...,\n",
      "        [-0.0308,  0.0177, -0.0118,  ...,  0.0299,  0.0050, -0.0061],\n",
      "        [-0.0260, -0.0061, -0.0292,  ..., -0.0130, -0.0008, -0.0205],\n",
      "        [-0.0021, -0.0071,  0.0122,  ...,  0.0316, -0.0089, -0.0125]],\n",
      "       device='cuda:0')), ('seq.0.bias', tensor([-6.8390e-02, -3.9502e-01, -3.3385e-02, -3.6857e-02, -1.6338e-01,\n",
      "        -2.3834e-01, -1.1138e-01, -8.9923e+00, -6.5127e-02, -5.9079e-02,\n",
      "        -4.5517e-02, -3.3961e-02, -1.5515e-02, -7.0995e-02, -8.0337e-01,\n",
      "        -2.4090e-02, -9.3586e+00, -8.5877e+00, -2.2907e-02, -1.1159e-01,\n",
      "        -2.9872e-02, -6.4468e-02, -8.3296e-02, -5.7231e-02, -2.1384e-01,\n",
      "        -2.8190e-02, -8.9153e-02, -5.0180e-02, -6.8959e-02, -3.9492e-02,\n",
      "        -2.9026e-02, -8.9626e-02, -4.2761e-02, -2.7956e-02, -3.5151e-02,\n",
      "        -1.0323e-01, -8.4909e-02, -5.2045e-01, -7.1442e-02, -9.8004e-01,\n",
      "        -4.7575e-02, -5.1962e-02, -2.6403e-02, -2.2340e-01, -7.1022e-02,\n",
      "        -5.6190e-02, -4.9313e-02, -1.0962e+00, -5.8467e-02, -7.3814e-02,\n",
      "        -4.1370e-01, -3.0858e-02, -8.6332e-02, -6.3429e-02, -8.8666e-02,\n",
      "        -3.1200e-01, -4.3539e-02, -8.9511e-01, -7.9769e-02, -1.6349e-03,\n",
      "        -1.4593e-01, -6.1380e-02, -6.7522e+00, -3.4751e-02, -7.0999e-02,\n",
      "        -8.8821e-02, -1.3944e+00, -8.4062e-02, -1.0224e-01, -5.6009e-02,\n",
      "        -7.1500e-02, -5.1487e-02, -8.4033e-02, -8.6016e-02, -1.5507e+00,\n",
      "        -6.4800e-02,  2.4379e-02, -1.0510e+01, -2.3537e-01, -1.0542e+01,\n",
      "        -4.4123e-02, -4.7685e-02, -3.1744e-01, -1.9357e-01, -6.1237e-02,\n",
      "        -4.5354e-02, -6.9776e-02, -7.7085e-02, -1.8012e-02, -1.2199e-01,\n",
      "        -6.2038e-02, -2.4258e-02, -8.3845e-02, -8.4222e-02, -5.6370e-01,\n",
      "        -1.1455e-01, -5.9336e-02, -3.8383e-01, -8.4463e-01, -2.0782e-02,\n",
      "        -5.4475e-02, -1.1668e+00, -7.4672e+00, -2.8108e-02, -9.3285e-02,\n",
      "        -1.3163e-02, -1.2563e+01, -6.9997e-02, -6.7481e-02, -3.6758e-02,\n",
      "        -4.5966e-02, -7.5083e-01, -9.4821e-02, -6.3705e-02, -7.4124e-01,\n",
      "        -8.4173e-02, -3.7549e-01, -1.2670e+00, -4.0554e-01, -7.4060e-02,\n",
      "        -7.6183e-02, -9.4253e-02, -1.1815e+01, -6.4711e-02, -1.0824e-01,\n",
      "         5.1339e-03, -1.8404e-01, -1.3893e-01, -5.4824e-02, -3.6609e-01,\n",
      "        -2.9025e-02, -5.6003e-01, -3.7753e-02, -5.9064e-01, -4.5783e-02,\n",
      "        -6.6651e-02, -1.0530e+01, -5.7307e-02, -7.1360e-02, -5.6867e+00,\n",
      "        -7.7686e-02, -1.3085e+01, -6.5584e+00, -1.0997e-01, -6.7258e-02,\n",
      "        -2.9155e-02, -1.3826e-02, -9.7170e-02, -6.6987e-01, -3.8725e-01,\n",
      "        -8.7150e-02, -3.8207e+00, -7.2876e+00, -4.4900e-02, -3.4466e-01,\n",
      "        -4.5730e-01, -6.6802e-02,  1.1396e-02, -1.6260e-01, -2.3430e-01,\n",
      "        -1.6391e-01, -4.4133e-02, -8.0173e-02, -3.6874e-02, -6.8500e-02,\n",
      "        -8.8384e-03, -8.9710e-02, -2.2424e+00, -6.5869e-02, -6.3497e-02,\n",
      "        -1.0762e-01, -6.3100e-02, -9.3435e-02, -1.1771e-01, -9.7436e-02,\n",
      "        -7.2009e-02, -5.1445e+00, -4.9826e-02, -1.7144e-01, -4.6319e-02,\n",
      "        -2.9509e-02, -2.9515e-02, -2.7179e-02, -1.8119e-01, -2.6300e+01,\n",
      "        -8.2036e-02, -2.2210e-01, -6.1571e-02, -2.5768e-01, -6.1013e-02,\n",
      "        -7.7180e-02, -1.6022e-02, -5.6635e-02, -2.7697e-02, -9.4547e-02,\n",
      "        -6.3746e-02, -1.2937e+01, -7.7445e-02, -3.1363e-02, -1.7641e-01,\n",
      "        -4.2357e-02, -1.7051e+01, -7.2519e-02, -2.4804e-01, -7.8964e-02,\n",
      "        -9.4138e-02, -8.3957e-02, -2.8221e-02, -2.0295e-02, -4.2253e-01,\n",
      "        -3.1853e+00, -3.5203e+00, -4.2880e-01, -4.6229e+00, -3.0421e-01,\n",
      "        -1.0232e+01, -8.8515e+00, -9.6070e-02, -2.3141e-01, -2.3200e-02,\n",
      "        -6.4200e-02, -1.5529e+00, -8.7953e-02, -6.8618e-01, -7.5417e-02,\n",
      "        -1.8779e-01, -3.1591e-01, -3.8726e-02, -8.4436e-02, -6.0486e-02,\n",
      "        -5.7059e-02, -2.5682e-01, -3.1207e-02, -7.2921e-01, -9.3700e+00,\n",
      "        -3.9820e-01, -4.8343e-02, -5.3437e-02, -1.6327e+01, -3.9730e-02,\n",
      "        -3.1454e-01, -2.1603e-01,  1.4813e-03, -7.3531e-02, -1.9055e-01,\n",
      "        -2.2868e-01, -6.8788e-02, -8.0444e+00, -8.9520e-02, -6.5930e-02,\n",
      "        -1.5886e-02, -7.9041e-02, -3.6554e-02, -1.0741e-02, -7.1425e-01,\n",
      "        -4.3573e-02, -3.2544e-01, -5.2168e-02, -5.0162e-03, -1.0200e-01,\n",
      "        -7.0058e-02, -8.6730e-02, -1.2345e-01, -7.2570e-02, -1.0708e+01,\n",
      "        -9.5189e-02, -2.8014e-02, -1.2219e+01, -8.1869e-02, -3.1985e-03,\n",
      "        -1.6587e-02, -7.5226e-02, -8.5617e-02, -3.5918e-02, -1.3746e-01,\n",
      "         9.4747e-03, -2.7393e-01, -5.4109e-02, -5.6422e-02, -4.9107e-02,\n",
      "        -3.1274e-02, -2.2786e-01, -3.5709e-02, -2.5134e-01, -7.1413e-01,\n",
      "        -7.3103e-02, -3.3774e-02, -4.2913e-02, -6.8606e-01, -8.5710e-02,\n",
      "        -5.5207e-01, -2.4810e-01, -7.6183e-01, -3.9665e-02, -3.4875e-02,\n",
      "        -6.0236e-01, -8.1342e-02, -4.3977e-02, -5.3019e-03, -4.9701e-02,\n",
      "        -2.5708e-01, -4.6357e-02, -1.1879e-01, -4.9303e-02, -4.0447e-02,\n",
      "        -4.0124e-02, -6.4742e-02, -7.6317e-02, -9.0232e-02, -1.0315e-02,\n",
      "        -8.3507e+00, -3.6522e-01, -9.3267e-02,  5.2805e-04, -8.0690e-02,\n",
      "        -1.2995e-01, -5.6791e-02, -7.9832e-02, -7.2402e-03, -8.6798e-02,\n",
      "        -3.7456e-02, -2.1356e-02, -4.3286e-02, -3.8115e-02, -7.0885e-01,\n",
      "        -5.7180e-02, -8.7964e+00, -4.2520e-02, -7.4994e-02, -3.1930e-01,\n",
      "        -1.8807e-01, -6.2135e-02, -4.4742e-02, -5.0651e-02, -7.4763e-02,\n",
      "        -4.1171e-02, -2.1895e-01, -5.4694e-02, -5.2200e-02, -9.6572e-02,\n",
      "        -4.4185e-03, -7.7498e-01, -2.0372e-01, -9.5146e+00, -6.0474e-01,\n",
      "        -2.7922e-01, -2.5996e-02, -3.2526e+00, -7.4430e-02, -9.2323e+00,\n",
      "        -1.6680e-01, -6.5038e-02, -3.5508e-01, -5.5175e-02, -3.3339e+00,\n",
      "        -5.9227e-02, -3.4819e-02, -5.4945e-01, -5.2307e-01, -1.6661e+01,\n",
      "        -4.8018e-02, -2.2200e+00, -4.1174e-02, -8.7334e-02, -6.9901e-02,\n",
      "        -8.1249e-02, -6.6053e-01, -6.8267e+00, -7.3670e-02, -2.4441e-02,\n",
      "        -4.5253e+00,  1.6796e-03, -5.5715e-02, -2.9445e-01, -1.0007e+01,\n",
      "        -6.2973e-02, -7.4845e-02, -2.6892e+00, -3.9363e-02, -5.5522e-02,\n",
      "        -6.8243e-02, -1.1951e+01, -6.5425e-02, -3.5684e-01, -2.6826e-01,\n",
      "        -7.4980e-02, -8.3275e-02, -5.6340e-02, -1.3887e+01, -2.0679e-01,\n",
      "        -9.0832e-02, -5.0363e-01, -1.5386e-01, -8.9231e-02, -2.0708e-01,\n",
      "        -9.0874e-02, -5.3581e-01, -6.0945e-02, -2.3200e+00, -5.4862e-02,\n",
      "        -5.3825e-02, -4.2982e-02, -4.6549e-01, -6.6602e-02, -6.4911e-02,\n",
      "        -8.7584e-02, -7.2525e-01, -9.9298e-02, -3.9040e-02, -6.1376e-02,\n",
      "        -2.7444e+00, -5.1909e-02, -7.7523e-03,  2.2602e-03, -1.3767e-01,\n",
      "        -5.7327e-02, -4.9704e-02, -1.0680e-01, -3.0302e-02, -1.2334e-01,\n",
      "        -4.2107e+00, -3.7550e-02, -2.7342e-02, -9.8218e-02, -1.5323e-01,\n",
      "        -2.8944e-02, -6.3701e-02, -5.2096e-02, -5.7305e-02, -1.4268e-01,\n",
      "        -3.7040e-02, -4.7929e-02, -2.3107e+01, -8.8200e+00, -3.3540e-01,\n",
      "        -4.9242e-02, -2.5174e-02, -7.9726e-02, -6.1956e-01, -2.3264e-01,\n",
      "        -2.1130e-02, -6.1808e-02, -5.7379e-02, -2.1685e-02, -2.8234e-01,\n",
      "        -3.7926e-02, -1.4641e-01, -7.4939e-02, -2.3720e-02, -3.4550e-02,\n",
      "        -7.4979e-02, -5.0301e-01, -6.1352e-02, -6.6117e-02, -6.2104e-02,\n",
      "        -3.7511e-01, -6.4739e-02, -1.7734e-01, -8.3502e-02, -3.6977e-01,\n",
      "        -6.0964e-02, -8.9285e-02, -1.2279e+00, -6.4604e-02, -4.1883e-02,\n",
      "        -7.5668e-03, -4.3281e-02, -3.7481e-02, -8.4814e-02, -8.3723e-02,\n",
      "        -3.6708e-01, -1.1215e-01, -5.8272e-02, -1.5825e-02, -2.2974e-01,\n",
      "        -7.7760e-02, -1.5393e+00, -4.9419e-02, -7.0722e-02, -1.0554e-01,\n",
      "        -9.1199e-02,  1.8696e-02, -9.5257e-02,  2.6556e-05, -3.1359e-02,\n",
      "        -7.5153e-02, -8.1534e-02, -3.3261e-02, -1.9908e+01, -9.3157e-01,\n",
      "        -5.3761e+00, -5.5032e-02, -2.2983e-01, -1.0475e-01, -1.0845e-01,\n",
      "        -1.8802e+00, -7.2202e-02, -3.8927e-01, -4.0903e+00, -7.6423e-02],\n",
      "       device='cuda:0')), ('seq.2.weight', tensor([[ -0.0698,  -0.6052,  -0.0841,  ...,  -0.0123, -10.2861,  -0.0215],\n",
      "        [ -0.0770,   0.0555,  -0.0979,  ...,  -0.3035,  -4.2220,  -0.0436],\n",
      "        [ -0.0900,  -0.0203,  -0.0300,  ...,  -0.4571,  -3.5763,   0.0469],\n",
      "        ...,\n",
      "        [  0.0164,  -0.4979,  -0.0759,  ...,  -0.6859,  -3.3261,  -0.0691],\n",
      "        [ -0.1012,  -0.1715,  -0.0310,  ...,  -0.1679,  -9.6836,  -0.0895],\n",
      "        [  0.0362,  -0.4749,  -0.1015,  ...,  -0.2800,  -3.7614,  -0.0367]],\n",
      "       device='cuda:0')), ('seq.2.bias', tensor([-1.8053, -2.7744, -1.8853, -1.3391, -1.9603, -1.5174, -2.6278, -2.3445,\n",
      "         0.0514, -1.2557], device='cuda:0'))])\n",
      "0.0004062925581820309\n"
     ]
    }
   ],
   "source": [
    "# Params\n",
    "INPUT_SIZE = 28*28\n",
    "HIDDEN_SIZE = 500\n",
    "N_EPOCHS = 20\n",
    "LR = 0.01\n",
    "\n",
    "model = BaselineMNISTModel(INPUT_SIZE, HIDDEN_SIZE)\n",
    "model.to(device)\n",
    "\n",
    "loss_fn = torch.nn.CrossEntropyLoss()\n",
    "optimizer = optim.Adam(model.parameters(), lr=LR)\n",
    "\n",
    "train_step = make_train_step(model, loss_fn, optimizer)\n",
    "\n",
    "loss_epochs = []\n",
    "for epoch in range(N_EPOCHS):\n",
    "    for images, labels in train_loader:\n",
    "        images = images.reshape(-1, 28*28).to(device)\n",
    "        images = images.to(device)\n",
    "        labels = labels.to(device)\n",
    "        loss = train_step(images, labels)\n",
    "        loss_epochs.append(loss)\n",
    "    print(epoch)\n",
    "\n",
    "print(model.state_dict())\n",
    "print(loss)"
   ]
  },
  {
   "cell_type": "code",
   "execution_count": 43,
   "id": "a0422dcc-5da5-4035-bea2-b1d24f870245",
   "metadata": {},
   "outputs": [
    {
     "name": "stdout",
     "output_type": "stream",
     "text": [
      "Точность: 93.09 %\n"
     ]
    }
   ],
   "source": [
    "with torch.no_grad():\n",
    "    correct = 0\n",
    "    total = 0\n",
    "    for images, labels in test_loader:\n",
    "        images = images.reshape(-1, 28*28).to(device)\n",
    "        images = images.to(device)\n",
    "        labels = labels.to(device)\n",
    "        outputs = model(images)\n",
    "        _, predicted = torch.max(outputs.data, 1)\n",
    "        total += labels.size(0)\n",
    "        correct += (predicted == labels).sum().item()\n",
    "\n",
    "    print('Точность: {} %'.format(100 * correct / total))"
   ]
  },
  {
   "cell_type": "code",
   "execution_count": 45,
   "id": "519e4f29-47f5-4236-9c26-8456ab8f696a",
   "metadata": {},
   "outputs": [
    {
     "data": {
      "image/png": "[encoded data removed]",
      "text/plain": [
       "<Figure size 800x400 with 1 Axes>"
      ]
     },
     "metadata": {},
     "output_type": "display_data"
    }
   ],
   "source": [
    "plot_learning_curve(loss_epochs)"
   ]
  },
  {
   "cell_type": "markdown",
   "id": "6c47a99a-3ff7-4463-8541-6c706f7cbc69",
   "metadata": {},
   "source": [
    "Кривая обучения не должна иметь столь высокую вариацию.\n",
    "\n",
    "Гипотеза: слишком высокое значение learning rate"
   ]
  },
  {
   "cell_type": "code",
   "execution_count": null,
   "id": "f61e9d9a-c26b-42c1-a6e3-d6ccdf6c9c0b",
   "metadata": {},
   "outputs": [],
   "source": []
  },
  {
   "cell_type": "code",
   "execution_count": null,
   "id": "bfd6dc3c-87d8-476d-bbda-244d67a08541",
   "metadata": {},
   "outputs": [],
   "source": []
  },
  {
   "cell_type": "code",
   "execution_count": null,
   "id": "fe7000d5-0fc3-4438-a02a-7e9498e566e1",
   "metadata": {},
   "outputs": [],
   "source": []
  },
  {
   "cell_type": "code",
   "execution_count": null,
   "id": "5dfa27ca-2249-4035-a4e2-e9f6471362e8",
   "metadata": {},
   "outputs": [],
   "source": []
  },
  {
   "cell_type": "markdown",
   "id": "98b4a692-c38b-43a4-9f01-ec43a1c4bfa6",
   "metadata": {},
   "source": [
    "#### Архитектура-1"
   ]
  },
  {
   "cell_type": "code",
   "execution_count": 59,
   "id": "8df8e4ad-99e8-4dfa-823e-9a59640bc8e8",
   "metadata": {},
   "outputs": [],
   "source": [
    "class Architecture1MNISTModel(nn.Module):\n",
    "    def __init__(self, input_size: int, hidden_size_1: int, hidden_size_2: int):\n",
    "        super(Architecture1MNISTModel, self).__init__()\n",
    "        self.seq = torch.nn.Sequential(\n",
    "            nn.Linear(input_size, hidden_size_1),\n",
    "            nn.Linear(hidden_size_1, hidden_size_2),\n",
    "            nn.ReLU(),\n",
    "            nn.Linear(hidden_size_2, 10),\n",
    "        )\n",
    "\n",
    "    def forward(self, x):\n",
    "        return self.seq(x)"
   ]
  },
  {
   "cell_type": "code",
   "execution_count": 60,
   "id": "0e31918b-5fdb-4d08-8d52-8115a551972d",
   "metadata": {
    "scrolled": true
   },
   "outputs": [
    {
     "name": "stdout",
     "output_type": "stream",
     "text": [
      "0\n",
      "1\n",
      "2\n",
      "3\n",
      "4\n",
      "5\n",
      "6\n",
      "7\n",
      "8\n",
      "9\n",
      "OrderedDict([('seq.0.weight', tensor([[-0.0112, -0.0352, -0.0224,  ...,  0.0005, -0.0012,  0.0043],\n",
      "        [-0.0009,  0.0013, -0.0108,  ..., -0.0190,  0.0019,  0.0060],\n",
      "        [ 0.0191, -0.0052,  0.0178,  ..., -0.0105, -0.0115, -0.0113],\n",
      "        ...,\n",
      "        [-0.0008, -0.0325, -0.0227,  ...,  0.0316,  0.0249,  0.0068],\n",
      "        [ 0.0223,  0.0329, -0.0106,  ..., -0.0286, -0.0016,  0.0278],\n",
      "        [-0.0242,  0.0021,  0.0356,  ..., -0.0086,  0.0129,  0.0214]],\n",
      "       device='cuda:0')), ('seq.0.bias', tensor([-0.0045,  0.1274,  0.0393, -0.1451,  0.0227,  0.1147,  0.0042, -0.1295,\n",
      "         0.0183, -0.1188, -0.0964,  0.0987,  0.0601, -0.0920, -0.0600,  0.1410,\n",
      "        -0.1446,  0.0772,  0.1878, -0.1152, -0.1033,  0.1035,  0.0340, -0.0780,\n",
      "        -0.1462,  0.1901, -0.0102, -0.1017,  0.0147,  0.0832, -0.1387, -0.1272,\n",
      "        -0.0727,  0.1316, -0.1475, -0.2676,  0.0471, -0.0610,  0.0144, -0.1019,\n",
      "        -0.0481, -0.0632,  0.0299,  0.0932, -0.1585,  0.0357,  0.1837, -0.0420,\n",
      "         0.0697, -0.0261, -0.0122, -0.0686,  0.0332, -0.1475, -0.0373,  0.1687,\n",
      "         0.0693,  0.0629, -0.1172, -0.0570,  0.0691, -0.1507,  0.1704, -0.0099,\n",
      "         0.0279,  0.1344,  0.0835, -0.0947, -0.1716,  0.0930,  0.1468, -0.1158,\n",
      "         0.0116, -0.0762,  0.0671, -0.0228,  0.0789,  0.1327, -0.0249,  0.0699,\n",
      "        -0.0943, -0.1367, -0.0841, -0.0150, -0.0318, -0.0084,  0.0648,  0.1227,\n",
      "         0.0601, -0.0779, -0.1419,  0.1320, -0.1123,  0.1585, -0.0067, -0.0268,\n",
      "         0.1059,  0.1559, -0.0463,  0.1281, -0.1116,  0.0218, -0.1170,  0.0832,\n",
      "         0.0740,  0.1037, -0.0486,  0.2636, -0.0458,  0.0114, -0.1239,  0.1220,\n",
      "         0.0427,  0.1410, -0.0096, -0.0768, -0.0695,  0.1089, -0.0004, -0.0936,\n",
      "        -0.0286,  0.0371,  0.0149, -0.0950,  0.0090,  0.0889,  0.0427, -0.0706,\n",
      "        -0.0812,  0.0277,  0.1578,  0.0750, -0.1101, -0.0581,  0.1187, -0.1414,\n",
      "         0.0018,  0.1005,  0.1231,  0.0450, -0.1333,  0.1065, -0.0324,  0.0261,\n",
      "         0.0896,  0.1176,  0.1586, -0.0301,  0.1192,  0.0006, -0.0392, -0.1350,\n",
      "         0.0575, -0.0216, -0.0393,  0.0834,  0.1462, -0.0360, -0.0620, -0.0990,\n",
      "         0.0563, -0.0890, -0.1492, -0.2093, -0.0068,  0.1262,  0.0059, -0.1409,\n",
      "         0.1744,  0.1582, -0.1028,  0.0197,  0.1179,  0.0475, -0.1805, -0.1218,\n",
      "         0.1032,  0.0806,  0.0006,  0.1174,  0.0076,  0.0831,  0.1211,  0.1679,\n",
      "         0.0698, -0.1312,  0.1865, -0.0400,  0.0621,  0.1307, -0.0492, -0.1181,\n",
      "         0.0338,  0.2007, -0.0601, -0.0315, -0.1177, -0.0036, -0.0772, -0.1222,\n",
      "         0.1268,  0.0940,  0.1029,  0.0643, -0.1461,  0.1237,  0.1169, -0.1656,\n",
      "        -0.0133, -0.1371,  0.0951, -0.0521,  0.1147, -0.0194,  0.1360,  0.0804,\n",
      "         0.0640,  0.0570,  0.0557,  0.0194, -0.1502,  0.1236, -0.0497,  0.0529,\n",
      "        -0.0527,  0.0867,  0.0154, -0.0911, -0.0762,  0.0825,  0.0012, -0.1363,\n",
      "         0.0711, -0.1228, -0.0884,  0.0528, -0.0681,  0.0987,  0.2019, -0.0516,\n",
      "        -0.0358, -0.1113, -0.0678,  0.1666,  0.1278,  0.0168,  0.1658,  0.1084,\n",
      "         0.0554, -0.1118, -0.0348,  0.1867,  0.0073, -0.0026, -0.0221, -0.1660,\n",
      "         0.0284, -0.0679,  0.0536,  0.1490, -0.1240,  0.0340, -0.0940,  0.1170,\n",
      "        -0.1291,  0.0293, -0.0704, -0.0901,  0.1224, -0.0580,  0.0558, -0.1152,\n",
      "        -0.0993, -0.0829,  0.1201, -0.0836,  0.0211,  0.1684,  0.0135, -0.1161,\n",
      "        -0.1525,  0.0751, -0.1127, -0.0010,  0.0233, -0.0935,  0.1364,  0.0771,\n",
      "         0.1622,  0.0335, -0.0880,  0.0340,  0.1721,  0.0297, -0.1149,  0.0782,\n",
      "        -0.0850, -0.0063,  0.0491, -0.1297,  0.1578,  0.0106,  0.1380, -0.0348,\n",
      "        -0.0922,  0.1648,  0.0808,  0.0158, -0.1801, -0.0501,  0.0992, -0.0004,\n",
      "        -0.0108, -0.2007, -0.0437,  0.0480,  0.0345, -0.1341,  0.1504, -0.0994,\n",
      "        -0.0136, -0.0844, -0.0335, -0.0545,  0.1954, -0.1098,  0.0658,  0.0901,\n",
      "        -0.0961,  0.0770, -0.1020, -0.0474,  0.0911, -0.1716, -0.1476, -0.0341,\n",
      "         0.0163,  0.0511, -0.1311,  0.0937,  0.0801,  0.0999,  0.0710, -0.0452,\n",
      "        -0.1007, -0.0694,  0.1596,  0.0701,  0.1205,  0.0865, -0.1585,  0.0196,\n",
      "        -0.0609,  0.1422, -0.1280, -0.0462, -0.0789,  0.2074, -0.0018, -0.0410,\n",
      "        -0.0814,  0.0365,  0.0856,  0.0519, -0.0642,  0.0969, -0.0379,  0.0512,\n",
      "         0.0054,  0.1330,  0.1605,  0.1090,  0.0436,  0.1078,  0.1244, -0.0399,\n",
      "         0.1002,  0.1554, -0.1408, -0.1191, -0.0086, -0.0267, -0.1074, -0.1885,\n",
      "         0.0319,  0.0145,  0.1445,  0.1353,  0.1244,  0.2117,  0.1704, -0.0493],\n",
      "       device='cuda:0')), ('seq.1.weight', tensor([[-0.0269, -0.0173, -0.0548,  ..., -0.0579, -0.0778,  0.0734],\n",
      "        [-0.0294, -0.0669,  0.0334,  ..., -0.0373,  0.0092,  0.0452],\n",
      "        [-0.0248, -0.0434,  0.0354,  ..., -0.0475,  0.0318,  0.0114],\n",
      "        ...,\n",
      "        [ 0.0592,  0.0782, -0.0864,  ..., -0.0959, -0.0137,  0.1120],\n",
      "        [-0.0135,  0.0174,  0.0543,  ..., -0.1877,  0.0307,  0.1641],\n",
      "        [-0.0467, -0.0285,  0.0663,  ..., -0.1294,  0.0010,  0.0222]],\n",
      "       device='cuda:0')), ('seq.1.bias', tensor([-0.1076, -0.0363, -0.0418, -0.0639, -0.0486, -0.0960, -0.1009, -0.1577,\n",
      "        -0.2063,  0.0097, -0.0844, -0.0032, -0.0659, -0.1325, -0.0399, -0.0020,\n",
      "        -0.0386, -0.0555, -0.0536, -0.0995, -0.0294, -0.0911, -0.0500, -0.0951,\n",
      "        -0.0555, -0.0735, -0.0957, -0.1505, -0.1117, -0.1102, -0.0257, -0.0623,\n",
      "        -0.0726, -0.1483, -0.0371, -0.0200, -0.0999, -0.0329, -0.0081, -0.1972,\n",
      "        -0.2578, -0.0242, -0.1554, -0.2542, -0.1258, -0.1396, -0.2063, -0.0662,\n",
      "        -0.0973, -0.0207, -0.0657, -0.0332, -0.0406, -0.0357, -0.1458, -0.1272,\n",
      "         0.0267, -0.0871, -0.0269, -0.0731, -0.0660, -0.0177, -0.0470, -0.0682,\n",
      "        -0.0728, -0.1803, -0.0843, -0.0702, -0.1439, -0.1046, -0.2636, -0.2088,\n",
      "        -0.0972, -0.1295, -0.1346, -0.0677, -0.0905,  0.0005, -0.0746, -0.1002,\n",
      "        -0.0988,  0.0266, -0.0577, -0.1177, -0.0501, -0.0262, -0.0893, -0.0959,\n",
      "        -0.0551, -0.0313, -0.0155, -0.0712, -0.0078, -0.0208, -0.0591, -0.1246,\n",
      "        -0.0212, -0.0187, -0.1140, -0.0542, -0.1199, -0.1095, -0.0011, -0.0155,\n",
      "        -0.0588, -0.1211, -0.0863, -0.0753,  0.0372, -0.0340, -0.1512, -0.0813,\n",
      "        -0.1420,  0.0121, -0.0636, -0.1371, -0.0766, -0.1358, -0.0982, -0.0686,\n",
      "        -0.1228, -0.0878, -0.1009, -0.0841, -0.0355, -0.0217, -0.0955, -0.0995,\n",
      "        -0.0368, -0.0665, -0.0391, -0.0930, -0.0527, -0.1075, -0.0787, -0.0007,\n",
      "        -0.0607, -0.0604, -0.0654, -0.1244, -0.0886, -0.1234, -0.0381, -0.0379,\n",
      "        -0.0187, -0.0898, -0.1911, -0.0295, -0.0432, -0.1790, -0.0318, -0.1233,\n",
      "        -0.1243, -0.1003,  0.0004, -0.1388,  0.0086,  0.0740, -0.0345, -0.0603,\n",
      "        -0.0273, -0.1254, -0.1187, -0.1157, -0.1407, -0.0619, -0.0636, -0.1073,\n",
      "        -0.0639, -0.0488, -0.1109, -0.0797, -0.1174, -0.1422, -0.1378, -0.2171,\n",
      "        -0.1202, -0.1227, -0.0825, -0.0191, -0.0508, -0.1092, -0.1256, -0.1150,\n",
      "        -0.0753, -0.0473, -0.0750, -0.0250, -0.0019, -0.0334, -0.0225, -0.0788,\n",
      "        -0.0341, -0.0627, -0.1323, -0.1017], device='cuda:0')), ('seq.3.weight', tensor([[-0.1881,  0.0630,  0.0630,  ..., -0.0658, -0.0270, -0.0779],\n",
      "        [-0.1367, -0.0726,  0.0301,  ..., -0.0526, -0.0877, -0.0902],\n",
      "        [ 0.0243,  0.0237, -0.0065,  ..., -0.0573, -0.1631, -0.1131],\n",
      "        ...,\n",
      "        [ 0.0092, -0.0172,  0.0157,  ...,  0.0042, -0.0123,  0.0059],\n",
      "        [-0.1241, -0.0024, -0.0471,  ..., -0.0062, -0.0216,  0.0535],\n",
      "        [ 0.0249,  0.0145, -0.0138,  ...,  0.0141, -0.0020, -0.0532]],\n",
      "       device='cuda:0')), ('seq.3.bias', tensor([-0.2966, -0.0314, -0.1256, -0.0961, -0.1320, -0.0774, -0.1879, -0.1841,\n",
      "        -0.1393, -0.1418], device='cuda:0'))])\n",
      "2.283799409866333\n"
     ]
    }
   ],
   "source": [
    "# Params\n",
    "INPUT_SIZE = 28*28\n",
    "HIDDEN_SIZE_1 = 28*14\n",
    "HIDDEN_SIZE_2 = 28*7\n",
    "N_EPOCHS = 10\n",
    "LR = 0.01\n",
    "\n",
    "model = Architecture1MNISTModel(INPUT_SIZE, HIDDEN_SIZE_1, HIDDEN_SIZE_2)\n",
    "model.to(device)\n",
    "\n",
    "loss_fn = torch.nn.CrossEntropyLoss()\n",
    "optimizer = optim.Adam(model.parameters(), lr=LR)\n",
    "\n",
    "train_step = make_train_step(model, loss_fn, optimizer)\n",
    "\n",
    "loss_epochs = []\n",
    "for epoch in range(N_EPOCHS):\n",
    "    for images, labels in train_loader:\n",
    "        images = images.reshape(-1, 28*28).to(device)\n",
    "        images = images.to(device)\n",
    "        labels = labels.to(device)\n",
    "        loss = train_step(images, labels)\n",
    "        loss_epochs.append(loss)\n",
    "    print(epoch)\n",
    "\n",
    "print(model.state_dict())\n",
    "print(loss)"
   ]
  },
  {
   "cell_type": "code",
   "execution_count": 61,
   "id": "1cafffe0-5be2-4813-9d41-844b99bc6df5",
   "metadata": {},
   "outputs": [
    {
     "name": "stdout",
     "output_type": "stream",
     "text": [
      "Точность: 11.35 %\n"
     ]
    }
   ],
   "source": [
    "with torch.no_grad():\n",
    "    correct = 0\n",
    "    total = 0\n",
    "    for images, labels in test_loader:\n",
    "        images = images.reshape(-1, 28*28).to(device)\n",
    "        images = images.to(device)\n",
    "        labels = labels.to(device)\n",
    "        outputs = model(images)\n",
    "        _, predicted = torch.max(outputs.data, 1)\n",
    "        total += labels.size(0)\n",
    "        correct += (predicted == labels).sum().item()\n",
    "\n",
    "    print('Точность: {} %'.format(100 * correct / total))"
   ]
  },
  {
   "cell_type": "code",
   "execution_count": 62,
   "id": "c0d06354-b5f8-479e-bbf0-edc46d5294fd",
   "metadata": {},
   "outputs": [
    {
     "data": {
      "image/png": "[encoded data removed]",
      "text/plain": [
       "<Figure size 800x400 with 1 Axes>"
      ]
     },
     "metadata": {},
     "output_type": "display_data"
    }
   ],
   "source": [
    "plot_learning_curve(loss_epochs)"
   ]
  },
  {
   "cell_type": "code",
   "execution_count": null,
   "id": "811b5d95-5796-40d9-8108-2b50bb508bb7",
   "metadata": {},
   "outputs": [],
   "source": []
  },
  {
   "cell_type": "code",
   "execution_count": null,
   "id": "228b96e9-6c47-45a6-8ce1-0b16750d9128",
   "metadata": {},
   "outputs": [],
   "source": []
  },
  {
   "cell_type": "code",
   "execution_count": null,
   "id": "2504802a-5459-4664-a78f-0c7aad414573",
   "metadata": {},
   "outputs": [],
   "source": []
  },
  {
   "cell_type": "markdown",
   "id": "ea5fbd51-70ab-4c37-8cd6-1ffe66062a50",
   "metadata": {},
   "source": [
    "#### Архитектура-2"
   ]
  },
  {
   "cell_type": "code",
   "execution_count": 69,
   "id": "ce72dd7b-b568-4cfd-868a-626448534e74",
   "metadata": {},
   "outputs": [],
   "source": [
    "class Architecture2MNISTModel(nn.Module):\n",
    "    def __init__(self, input_size: int, hidden_size_1: int, hidden_size_2: int):\n",
    "        super(Architecture2MNISTModel, self).__init__()\n",
    "        self.seq = torch.nn.Sequential(\n",
    "            nn.Linear(input_size, hidden_size_1),\n",
    "            nn.ReLU(),\n",
    "            nn.Linear(hidden_size_1, hidden_size_2),\n",
    "            nn.ReLU(),\n",
    "            nn.Linear(hidden_size_2, 10)\n",
    "        )\n",
    "\n",
    "    def forward(self, x):\n",
    "        return self.seq(x)"
   ]
  },
  {
   "cell_type": "code",
   "execution_count": 70,
   "id": "6fff7752-db2f-4f16-a472-08eb188c7b18",
   "metadata": {
    "scrolled": true
   },
   "outputs": [
    {
     "name": "stdout",
     "output_type": "stream",
     "text": [
      "0\n",
      "1\n",
      "2\n",
      "3\n",
      "4\n",
      "5\n",
      "6\n",
      "7\n",
      "8\n",
      "9\n",
      "OrderedDict([('seq.0.weight', tensor([[ 0.0022, -0.0185, -0.0270,  ..., -0.0077,  0.0140, -0.0133],\n",
      "        [-0.0216, -0.0006,  0.0143,  ...,  0.0290,  0.0121,  0.0338],\n",
      "        [ 0.0029, -0.0107,  0.0322,  ...,  0.0063, -0.0219,  0.0270],\n",
      "        ...,\n",
      "        [ 0.0333,  0.0113, -0.0267,  ..., -0.0034,  0.0249,  0.0335],\n",
      "        [ 0.0197,  0.0142,  0.0018,  ...,  0.0049, -0.0206,  0.0015],\n",
      "        [ 0.0331, -0.0219,  0.0202,  ...,  0.0355, -0.0088, -0.0025]],\n",
      "       device='cuda:0')), ('seq.0.bias', tensor([-1.1277e-02, -5.2142e-03, -5.1943e-02, -1.9029e-01, -2.9277e-01,\n",
      "        -4.0576e-01, -3.7971e-02, -3.8552e-01, -2.3548e-02, -1.5270e-02,\n",
      "        -3.0198e-01, -3.4127e-01, -7.2154e-02, -4.7953e-01, -4.6923e-01,\n",
      "        -3.4686e-01, -1.8990e-01, -5.3524e-03, -1.1634e-01, -3.7367e-01,\n",
      "        -4.6988e-01, -2.2986e-01, -3.8730e-02, -4.9502e-02, -1.9502e-01,\n",
      "        -5.6971e-01, -2.2158e-01, -1.2893e-02, -1.3050e-01, -1.8026e-01,\n",
      "        -3.4022e-01, -2.1148e-01, -5.6425e-01,  7.5368e-03, -3.5785e-01,\n",
      "        -6.5069e-02, -4.0293e-01, -1.1824e-01, -3.9045e-01, -1.2887e-01,\n",
      "        -3.9470e-01, -1.6844e-02, -2.3087e-02, -6.3429e-01, -2.8491e-01,\n",
      "        -3.7021e-01, -6.5730e-01, -4.6346e-01, -5.2332e-01, -3.0769e-01,\n",
      "        -1.9915e-01, -1.4169e-01, -4.1339e-01,  1.8176e-01, -5.6683e-02,\n",
      "        -3.2049e-01, -5.6043e-01, -2.0311e-01, -1.0740e-01, -2.6074e-01,\n",
      "        -8.0141e-01, -3.8568e-01, -2.8296e-01, -3.7159e-01, -1.5141e-01,\n",
      "        -5.6552e-01, -2.4357e-01, -7.8110e-02, -1.1359e-01, -5.3795e-01,\n",
      "        -6.1036e-02, -3.4024e-01,  2.7374e-02, -9.1807e-03, -1.5638e-02,\n",
      "        -2.1943e-01, -9.4165e-02, -2.8302e-02, -1.3698e-01, -4.8471e-01,\n",
      "        -9.0052e-02, -3.1662e-01, -3.6297e-01, -1.4452e-01, -3.1220e-01,\n",
      "        -1.1716e-01, -3.5072e-01, -4.1943e-01, -4.7788e-02, -1.2159e-01,\n",
      "        -2.5278e-01, -4.6280e-01, -3.4422e-01, -1.9634e-01,  4.7614e-03,\n",
      "         4.8569e-02, -4.1123e-01, -3.0614e-01, -6.1377e-02,  9.3308e-02,\n",
      "        -7.0145e-02, -7.4360e-03, -3.7342e-01, -3.7054e-02, -1.2293e-02,\n",
      "        -1.5912e-01, -5.2841e-01, -4.3823e-01, -6.0858e-02, -6.4700e-01,\n",
      "        -8.2980e-01, -6.4826e-02, -5.0988e-01, -2.3356e-02, -1.7666e-02,\n",
      "        -2.7184e-01, -1.5054e-03, -3.2565e-01, -1.2179e-01, -4.6251e-01,\n",
      "        -5.5604e-02, -2.2735e-01, -6.6656e-02, -4.4027e-02, -5.9152e-02,\n",
      "        -2.9951e-02, -1.3706e-02, -2.0856e-02, -8.1211e-02, -5.6580e-02,\n",
      "        -4.4116e-02, -3.4767e-01, -2.0708e-01, -3.2081e-01, -4.8313e-01,\n",
      "        -2.2897e-01, -4.7729e-01,  4.3548e-03, -2.0828e-01, -5.1937e-01,\n",
      "        -4.8431e-01, -1.4667e-01, -1.9181e-01, -4.5475e-01, -6.0266e-01,\n",
      "        -3.7986e-01, -2.1087e-01, -4.3039e-01,  7.4231e-03, -4.7006e-01,\n",
      "        -2.3978e-01, -2.1016e-01, -1.7318e-01, -5.5412e-01, -4.3543e-01,\n",
      "        -5.5613e-02, -1.6818e-01, -2.0876e-01, -3.6472e-01, -1.4761e-03,\n",
      "        -1.9539e-01, -2.4257e-01,  5.3458e-02, -9.9860e-02, -4.7906e-02,\n",
      "        -7.0735e-02, -1.8528e-01, -1.6132e-01, -2.4549e-01, -4.4197e-01,\n",
      "        -1.1042e-01, -1.3949e-01, -2.9128e-01, -8.3885e-02, -5.5781e-02,\n",
      "        -4.3090e-01, -1.8465e-01, -1.5521e-02, -2.7819e-01, -2.8065e-01,\n",
      "        -6.1569e-01, -8.7350e-02, -3.9706e-01, -1.5080e-01, -4.8556e-02,\n",
      "        -5.8637e-01, -1.3106e-02, -3.1921e-01, -1.2934e-01, -4.9429e-02,\n",
      "        -3.1366e-01, -4.6458e-01, -4.2019e-01, -4.8588e-01,  1.1810e-02,\n",
      "        -7.6765e-03, -6.4366e-02, -2.5755e-01, -1.4099e-01, -2.0673e-02,\n",
      "        -4.9445e-02, -3.2415e-02, -4.8308e-01, -5.8947e-02, -2.7917e-01,\n",
      "        -4.1162e-01, -4.1206e-02, -1.6475e-01, -3.6331e-01, -1.8527e-01,\n",
      "        -2.8958e-01,  1.5057e-02, -9.9697e-02, -2.7524e-01,  1.7900e-02,\n",
      "        -2.7309e-01, -1.4850e-01, -6.1380e-02, -1.1470e-01,  4.2535e-03,\n",
      "        -4.3488e-01, -1.5767e-01, -3.0214e-02, -1.6377e-02, -2.6683e-02,\n",
      "        -3.4922e-01, -1.5784e-01, -2.9367e-01,  5.7370e-02, -2.4667e-02,\n",
      "        -3.2536e-01, -6.6804e-02, -2.7390e-01,  5.3550e-02, -3.0228e-01,\n",
      "        -1.9207e-01, -2.2304e-01, -4.2941e-02, -5.7725e-03, -3.1518e-01,\n",
      "         4.7183e-02, -1.5959e-01, -2.2782e-02, -4.4768e-01, -2.1960e-01,\n",
      "        -3.2563e-01, -1.3009e-01, -4.8984e-01, -3.6972e-01, -3.2510e-01,\n",
      "        -1.1270e-01, -5.9799e-01, -2.0418e-04, -5.4099e-01, -5.5632e-01,\n",
      "        -3.4768e-01, -1.9737e-02, -2.3240e-01, -3.7703e-01, -5.8280e-03,\n",
      "        -3.9691e-01, -2.9076e-01, -2.0713e-01, -2.9673e-01, -5.0223e-01,\n",
      "        -2.6585e-02, -3.2636e-01, -6.9284e-02, -1.3982e-01, -3.3870e-02,\n",
      "        -4.3986e-01, -2.6544e-01,  7.3852e-03, -1.6654e-01, -4.9983e-01,\n",
      "        -3.9548e-01, -5.2084e-01, -7.4721e-02, -2.8046e-01, -3.3031e-01,\n",
      "        -4.4185e-02,  1.4036e-01, -5.0414e-01, -2.2373e-01, -3.0632e-01,\n",
      "        -3.6664e-01, -4.7270e-01, -4.1034e-01, -1.8832e-02, -5.9869e-02,\n",
      "        -2.9812e-02, -2.8924e-01, -1.5402e-01, -2.1609e-01,  4.4879e-03,\n",
      "        -3.1583e-02, -1.5418e-01, -2.1633e-01, -4.5949e-01, -4.5360e-02,\n",
      "        -2.7895e-02, -2.5694e-02, -2.8996e-01, -3.3264e-02, -3.3038e-01,\n",
      "        -2.6638e-01, -3.3221e-01, -7.7559e-02, -1.4445e-01, -1.3962e-01,\n",
      "        -4.5357e-01, -2.5381e-01, -1.9047e-01,  2.0051e-01, -4.0563e-01,\n",
      "        -4.1423e-01, -3.5064e-01, -3.2763e-01, -1.7873e-03, -4.9498e-02,\n",
      "        -1.8536e-01, -2.6132e-01, -1.5065e-03, -1.7515e-02, -5.2759e-01,\n",
      "        -3.1867e-02, -1.2030e-01, -3.0938e-01, -2.9059e-01, -3.2321e-01,\n",
      "         6.8640e-01, -4.7705e-02, -3.1490e-01, -1.9462e-01, -3.1277e-01,\n",
      "        -4.8988e-01, -4.4721e-01, -3.8175e-01, -1.3891e-01, -3.8855e-02,\n",
      "        -6.0829e-01, -3.6816e-01, -9.8711e-02, -6.7669e-02, -6.4428e-02,\n",
      "        -3.0501e-01, -4.0267e-01, -4.9794e-02, -1.2946e-02,  5.1121e-01,\n",
      "        -1.1972e-01, -1.9800e-01, -9.4767e-02, -1.1876e-01, -1.7309e-01,\n",
      "        -4.2309e-01, -1.3432e-01, -1.9762e-01, -2.2336e-01, -2.3838e-01,\n",
      "        -5.7818e-01, -2.7465e-01, -6.1910e-01, -3.8671e-02, -1.7761e-01,\n",
      "        -2.1015e-01, -1.0962e-01, -6.4722e-02, -5.1566e-01, -3.4768e-01,\n",
      "        -6.9296e-01, -3.4567e-01, -2.1935e-02, -1.6820e-01,  4.3580e-02,\n",
      "        -1.1049e-01, -1.6445e-01, -3.1127e-02, -4.1932e-02, -4.1094e-01,\n",
      "        -4.7302e-01, -1.5893e-01, -1.9573e-02, -6.5521e-02, -3.0354e-01,\n",
      "        -2.4541e-01, -4.7199e-01, -1.3745e-01, -5.2658e-01, -4.1360e-01,\n",
      "        -2.1848e-01, -3.4874e-01, -5.6466e-01, -9.8808e-02, -7.2361e-02,\n",
      "        -5.0225e-01, -4.3819e-01, -1.1840e-01, -4.2085e-01, -1.6795e-01,\n",
      "        -5.6057e-01,  8.0127e-02, -8.7927e-02, -3.7001e-01, -1.7362e-02,\n",
      "        -2.3058e-01, -6.8387e-02, -1.4308e-01, -2.0314e-01, -3.5016e-01,\n",
      "        -2.5763e-01, -1.4570e-01, -3.9734e-02, -1.6301e-01, -1.9485e-01,\n",
      "        -1.1600e-01, -2.5219e-01,  1.0315e-01, -2.3293e-01,  1.6233e-01,\n",
      "        -9.1820e-04, -7.9477e-02, -9.8606e-02, -2.9930e-01, -4.4462e-01,\n",
      "        -4.6993e-02, -4.2386e-01, -4.1423e-01,  2.8472e-02, -3.3881e-01,\n",
      "        -5.8178e-01, -1.8041e-01, -4.9619e-01, -9.7231e-04, -3.4303e-02,\n",
      "         1.6724e-02, -2.9591e-01, -4.9386e-01, -2.6864e-01, -4.6010e-01,\n",
      "        -5.4620e-01, -4.8564e-01, -3.2857e-01, -2.1290e-01, -4.0083e-01,\n",
      "        -2.9359e-01, -2.9503e-01, -3.1479e-01, -9.3333e-02, -9.0953e-02,\n",
      "        -3.6508e-01, -2.5066e-01, -1.2357e-02, -1.7075e-01,  4.3638e-03,\n",
      "        -9.7073e-02, -7.4301e-02, -3.8375e-01, -1.3453e-01, -1.1929e-01,\n",
      "        -2.2188e-03, -1.0545e-01, -2.6027e-01, -3.7129e-01,  2.2140e-02,\n",
      "        -2.7953e-01, -3.0066e-01, -3.5381e-01,  2.7314e-01, -7.8462e-02,\n",
      "        -7.1155e-03, -2.0384e-01, -3.7102e-01, -3.4104e-01,  1.9621e-01,\n",
      "        -7.0221e-02, -2.3430e-01,  4.1440e-01, -6.2837e-02, -2.3159e-01,\n",
      "        -2.5970e-01, -1.4022e-02, -1.7458e-01, -2.1035e-01, -3.2525e-02,\n",
      "        -2.6301e-01, -1.3996e-01, -2.7687e-01, -1.6013e-01, -7.2838e-03,\n",
      "        -1.9739e-01, -1.6005e-01, -2.5714e-01, -2.5434e-01, -2.4572e-01,\n",
      "        -1.8014e-01, -3.9260e-01, -2.4787e-01, -1.2682e-01, -4.1190e-01,\n",
      "        -4.5212e-01, -2.1406e-01, -2.3632e-01, -6.6053e-01, -3.8468e-01,\n",
      "         1.4748e-02, -4.2761e-02,  7.1065e-02, -3.4106e-01, -5.3150e-01,\n",
      "         3.6219e-01, -4.4080e-01, -9.3342e-02, -3.6841e-02,  2.9963e-02,\n",
      "        -4.4031e-01, -4.6860e-01, -4.3769e-01, -1.7532e-01, -1.4641e-01,\n",
      "        -6.7421e-02, -1.1097e-01, -3.4649e-01, -2.1456e-01, -4.1552e-02,\n",
      "        -1.8940e-01, -5.4723e-01, -3.0280e-01, -1.7884e-01, -3.0582e-01,\n",
      "        -9.4519e-04, -3.5757e-01, -2.3659e-01, -1.9001e-01, -3.4759e-01,\n",
      "        -2.8763e-02, -1.2295e-01, -1.7827e-02, -1.4322e-01, -3.5832e-01,\n",
      "        -4.8664e-01, -1.2600e-01, -2.6360e-01, -2.4717e-01, -2.2924e-01,\n",
      "        -1.2475e-01, -3.3715e-01, -1.5876e-01, -3.8735e-01, -2.3991e-01,\n",
      "        -2.4216e-01, -3.1009e-02, -3.5323e-01, -9.0748e-02, -1.2895e-01,\n",
      "        -1.4099e-01, -1.8337e-01, -4.1900e-01,  2.2428e+00, -1.8207e-01,\n",
      "         3.8439e-02, -2.0261e-01, -5.3465e-03, -2.2974e-01, -1.0154e-01,\n",
      "        -1.3591e-01, -4.1558e-01, -2.8565e-02, -7.4915e-03, -4.9951e-02,\n",
      "        -3.1611e-01, -1.5838e-02, -3.7637e-01,  9.3128e-03, -2.5974e-01,\n",
      "        -3.4081e-01, -3.7298e-01, -5.2716e-01,  3.2646e-03, -4.1644e-02,\n",
      "        -1.1257e-02, -4.0249e-01, -2.8520e-01, -3.5722e-01, -3.2665e-01,\n",
      "        -3.6900e-01, -4.5594e-01, -1.8766e-01, -1.5152e-01, -1.1325e-01,\n",
      "        -3.4167e-01, -1.3674e-01, -2.7299e-01, -3.1678e-01, -1.4338e-01,\n",
      "        -1.9423e-02, -3.2327e-01, -3.0245e-01, -3.8140e-01, -2.2560e-01,\n",
      "        -7.8816e-02,  1.2313e-02, -8.5192e-02, -5.9401e-01, -4.1101e-01,\n",
      "        -5.5568e-01, -3.0439e-01, -1.5217e-01, -4.1237e-01, -1.3009e-01,\n",
      "        -3.6291e-01, -3.2373e-01, -5.0221e-01, -1.0337e-01,  2.0455e-01,\n",
      "        -1.9462e-01], device='cuda:0')), ('seq.2.weight', tensor([[-0.0441, -0.0184,  0.0332,  ..., -0.0214, -0.1894,  0.0907],\n",
      "        [-0.0202, -0.0389,  0.0148,  ...,  0.0287,  0.0103,  0.0291],\n",
      "        [-0.0189,  0.0120, -0.0293,  ...,  0.1727, -0.1589,  0.0120],\n",
      "        ...,\n",
      "        [ 0.0271, -0.0378,  0.0153,  ...,  0.1199, -0.0845, -0.1831],\n",
      "        [-0.0245, -0.0351,  0.0402,  ...,  0.2174, -0.2235,  0.1087],\n",
      "        [ 0.0121, -0.0054, -0.0262,  ...,  0.1730,  0.1486, -0.1229]],\n",
      "       device='cuda:0')), ('seq.2.bias', tensor([-0.5199, -0.0377, -0.3072, -0.2346, -0.2524, -0.3541, -0.1368, -0.3111,\n",
      "        -0.2921, -0.4003, -0.0404, -0.3174, -0.0692, -0.3323, -0.1886, -0.5086,\n",
      "        -0.3608, -0.2892,  0.3579, -0.0513, -0.2250, -0.0595, -0.3356, -0.3233,\n",
      "        -0.2412, -0.1644, -0.2957, -0.3019, -0.2110, -0.4580, -0.1024, -0.4724,\n",
      "        -0.4522, -0.1946, -0.4068, -0.1923, -0.3092, -0.3318, -0.2657, -0.2594,\n",
      "        -0.0274, -0.1416, -0.0136, -0.1805, -0.2775,  0.2399, -0.0403, -0.2592,\n",
      "        -0.2829, -0.4190, -0.4180, -0.1476, -0.3552, -0.3283, -0.3704, -0.3848,\n",
      "        -0.3767, -0.3484, -0.2384, -0.2508, -0.2311, -0.1822, -0.3133, -0.2784,\n",
      "        -0.3511, -0.4147, -0.0029, -0.2456, -0.2491, -0.0783, -0.1274, -0.5210,\n",
      "        -0.2979, -0.3370, -0.4255, -0.0203, -0.3437, -0.4444, -0.0950,  0.0064,\n",
      "        -0.3912, -0.2617, -0.1405, -0.0944, -0.2778, -0.2042, -0.4186, -0.2593,\n",
      "        -0.0559, -0.3422, -0.1101, -0.2014, -0.3483, -0.5571, -0.3915, -0.0425,\n",
      "        -0.2879, -0.3686, -0.2467, -0.2812, -0.2011, -0.3127, -0.0416, -0.2019,\n",
      "        -0.3180, -0.0383, -0.3827, -0.2740, -0.3009, -0.0943, -0.1792, -0.2930,\n",
      "        -0.2701, -0.4799, -0.4870, -0.1372, -0.0950, -0.0338, -0.2242, -0.1338,\n",
      "        -0.5121, -0.2803, -0.2452, -0.4040, -0.3136, -0.2903, -0.5278, -0.2576,\n",
      "        -0.2684, -0.0245, -0.0201, -0.1215, -0.3246, -0.2703, -0.3576, -0.1068,\n",
      "        -0.4718, -0.0405, -0.3842,  0.2335, -0.4346, -0.2464,  0.0929, -0.2868,\n",
      "        -0.3779, -0.4642, -0.3067, -0.1765, -0.4372, -0.3489, -0.3909, -0.1251,\n",
      "        -0.4619, -0.0634, -0.2630, -0.2265, -0.0709, -0.3137, -0.0977, -0.2778,\n",
      "        -0.3018, -0.5506, -0.2202, -0.4457, -0.1360, -0.3881, -0.2348, -0.4308,\n",
      "        -0.2343, -0.2370, -0.4041, -0.3485, -0.3090, -0.1727, -0.0520, -0.5542,\n",
      "        -0.3355, -0.2982, -0.3693, -0.2343, -0.2294, -0.1337, -0.3006, -0.2988,\n",
      "        -0.1918,  0.0688, -0.3344, -0.3913,  0.3924, -0.2668, -0.3139, -0.1884,\n",
      "        -0.3175, -0.5690, -0.3525, -0.3736, -0.0189, -0.2179, -0.3941, -0.2715,\n",
      "        -0.0315, -0.0764,  0.0234, -0.2789, -0.2417, -0.3694, -0.3102, -0.0822,\n",
      "        -0.3270, -0.1589, -0.1574, -0.3232, -0.3939, -0.0458, -0.2651, -0.4936,\n",
      "        -0.3460,  0.4086, -0.3560, -0.1689, -0.4289, -0.3664, -0.0556, -0.0486,\n",
      "        -0.3744, -0.1977, -0.2732, -0.2537, -0.3462, -0.4288, -0.4891, -0.3346,\n",
      "        -0.3624, -0.2333, -0.0366, -0.0650, -0.5244, -0.1958, -0.1659, -0.2550,\n",
      "        -0.1970, -0.1679,  0.0165, -0.1887, -0.3164, -0.3640, -0.3837,  0.0121,\n",
      "        -0.0527, -0.2741, -0.4442, -0.2010, -0.2447, -0.3453, -0.1298, -0.2216,\n",
      "        -0.0632, -0.4181, -0.1498, -0.2445, -0.2263, -0.2799, -0.2310, -0.1754,\n",
      "        -0.3181, -0.0799, -0.4234, -0.2486, -0.3233, -0.3645,  0.2016, -0.2481,\n",
      "        -0.1280, -0.5214, -0.3316, -0.3782, -0.2626, -0.3238, -0.4391, -0.2156],\n",
      "       device='cuda:0')), ('seq.4.weight', tensor([[-0.0580,  0.0201,  0.1349,  ..., -0.0239,  0.0808, -0.1986],\n",
      "        [-0.8031,  0.0316, -0.4762,  ..., -0.1890,  0.0641, -0.4370],\n",
      "        [-0.2377,  0.0151, -0.0027,  ...,  0.0328, -0.4835, -0.4125],\n",
      "        ...,\n",
      "        [ 0.0705,  0.0212, -0.4182,  ..., -0.3205, -0.2290, -0.3423],\n",
      "        [-0.6512, -0.0445, -0.4265,  ..., -0.5490, -0.6757, -0.0487],\n",
      "        [-0.1956, -0.0302, -0.2716,  ..., -0.5094, -0.2171,  0.0443]],\n",
      "       device='cuda:0')), ('seq.4.bias', tensor([-0.0443, -0.3670, -0.2496, -0.4826,  0.0447, -0.1340, -0.5012, -0.4307,\n",
      "         0.8394,  0.3931], device='cuda:0'))])\n",
      "4.9769382712838706e-06\n"
     ]
    }
   ],
   "source": [
    "# Params\n",
    "INPUT_SIZE = 28*28\n",
    "HIDDEN_SIZE_1 = 28*22\n",
    "HIDDEN_SIZE_2 = 28*10\n",
    "N_EPOCHS = 10\n",
    "LR = 0.001\n",
    "\n",
    "model = Architecture2MNISTModel(INPUT_SIZE, HIDDEN_SIZE_1, HIDDEN_SIZE_2)\n",
    "model.to(device)\n",
    "\n",
    "loss_fn = torch.nn.CrossEntropyLoss()\n",
    "optimizer = optim.Adam(model.parameters(), lr=LR)\n",
    "\n",
    "train_step = make_train_step(model, loss_fn, optimizer)\n",
    "\n",
    "loss_epochs = []\n",
    "for epoch in range(N_EPOCHS):\n",
    "    one_epoch_losses = []\n",
    "    for images, labels in train_loader:\n",
    "        images = images.reshape(-1, 28*28).to(device)\n",
    "        images = images.to(device)\n",
    "        labels = labels.to(device)\n",
    "        loss = train_step(images, labels)\n",
    "        one_epoch_losses.append(loss)\n",
    "    print(epoch)\n",
    "\n",
    "print(model.state_dict())\n",
    "print(loss)"
   ]
  },
  {
   "cell_type": "code",
   "execution_count": 71,
   "id": "93b6934e-b051-4016-af72-136ce8f09150",
   "metadata": {},
   "outputs": [
    {
     "name": "stdout",
     "output_type": "stream",
     "text": [
      "Точность: 97.6 %\n"
     ]
    }
   ],
   "source": [
    "with torch.no_grad():\n",
    "    correct = 0\n",
    "    total = 0\n",
    "    for images, labels in test_loader:\n",
    "        images = images.reshape(-1, 28*28).to(device)\n",
    "        images = images.to(device)\n",
    "        labels = labels.to(device)\n",
    "        outputs = model(images)\n",
    "        _, predicted = torch.max(outputs.data, 1)\n",
    "        total += labels.size(0)\n",
    "        correct += (predicted == labels).sum().item()\n",
    "\n",
    "    print('Точность: {} %'.format(100 * correct / total))"
   ]
  },
  {
   "cell_type": "code",
   "execution_count": 73,
   "id": "e0ccc8d7-88dc-45a4-b09f-be9bd5633412",
   "metadata": {},
   "outputs": [
    {
     "data": {
      "image/png": "[encoded data removed]",
      "text/plain": [
       "<Figure size 800x400 with 1 Axes>"
      ]
     },
     "metadata": {},
     "output_type": "display_data"
    }
   ],
   "source": [
    "plot_learning_curve(loss_epochs)"
   ]
  },
  {
   "cell_type": "code",
   "execution_count": null,
   "id": "cce7e6e0-ce5e-4214-9a3c-13372a4bc449",
   "metadata": {},
   "outputs": [],
   "source": []
  },
  {
   "cell_type": "code",
   "execution_count": null,
   "id": "2f1868f6-6157-46f4-9b68-ace0255ca5a5",
   "metadata": {},
   "outputs": [],
   "source": []
  },
  {
   "cell_type": "code",
   "execution_count": null,
   "id": "59c4327e-311a-4e85-809c-0580cdb386a7",
   "metadata": {},
   "outputs": [],
   "source": []
  },
  {
   "cell_type": "code",
   "execution_count": null,
   "id": "6e7013be-0d5d-4ee1-b7e4-7e94b57b47af",
   "metadata": {},
   "outputs": [],
   "source": []
  },
  {
   "cell_type": "code",
   "execution_count": null,
   "id": "eb83fe2a-a47e-4f0a-b246-4333be0088c4",
   "metadata": {},
   "outputs": [],
   "source": []
  },
  {
   "cell_type": "code",
   "execution_count": null,
   "id": "bde3ac7f-ae84-4cbc-9db2-f9e3a1f4ca60",
   "metadata": {},
   "outputs": [],
   "source": []
  }
 ],
 "metadata": {
  "kernelspec": {
   "display_name": "Python 3 (ipykernel)",
   "language": "python",
   "name": "python3"
  },
  "language_info": {
   "codemirror_mode": {
    "name": "ipython",
    "version": 3
   },
   "file_extension": ".py",
   "mimetype": "text/x-python",
   "name": "python",
   "nbconvert_exporter": "python",
   "pygments_lexer": "ipython3",
   "version": "3.10.12"
  }
 },
 "nbformat": 4,
 "nbformat_minor": 5
}
