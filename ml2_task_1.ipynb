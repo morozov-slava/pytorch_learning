{
 "cells": [
  {
   "cell_type": "markdown",
   "id": "5b0b23fe-fa96-4d21-bacc-25e8d2f48f0e",
   "metadata": {},
   "source": [
    "## Задание"
   ]
  },
  {
   "cell_type": "markdown",
   "id": "f81231f4-f649-4214-98d6-125dbda10211",
   "metadata": {},
   "source": [
    "Оформите ваш код из последнего задания первого занятия так, чтобы он представлял собой работу с моделью. Добавьте верификацию модели по тестовой выборке, как в последнем примере."
   ]
  },
  {
   "cell_type": "markdown",
   "id": "20ffdda6-d576-4def-9a2b-186ae6647817",
   "metadata": {},
   "source": [
    "**Решение:** \n",
    "\n",
    "Реализуем полный цикл подготовки данных и обучения модели для полиномиальной регрессии 2-й степени"
   ]
  },
  {
   "cell_type": "code",
   "execution_count": 1,
   "id": "0f90d6a3-0840-45e2-a4d6-f009d4ae63dc",
   "metadata": {},
   "outputs": [],
   "source": [
    "import torch\n",
    "import numpy as np\n",
    "\n",
    "from torch import optim, nn\n",
    "from torch.utils.data.dataset import random_split\n",
    "from torch.utils.data import Dataset, TensorDataset, DataLoader"
   ]
  },
  {
   "cell_type": "code",
   "execution_count": 2,
   "id": "79021621-b7d8-4a96-a726-b76098697e24",
   "metadata": {},
   "outputs": [],
   "source": [
    "def generate_regression_dataset(device):\n",
    "    sz = 100\n",
    "    x = np.random.rand(sz, 1)\n",
    "    y = 1 + 2 * x + 0.1 * np.random.randn(sz, 1)\n",
    "    idx = np.arange(sz)\n",
    "    np.random.shuffle(idx)\n",
    "    sz80 = (int)(sz*0.8)\n",
    "    train_idx = idx[: sz80]\n",
    "    val_idx = idx[sz80:]\n",
    "    x_train, y_train = x[train_idx], y[train_idx]\n",
    "    x_val, y_val = x[val_idx], y[val_idx]\n",
    "    return x_train, y_train\n",
    "\n",
    "\n",
    "class CustomDataset(Dataset):\n",
    "    def __init__(self, x_tensor, y_tensor):\n",
    "        super().__init__()\n",
    "        self.x = x_tensor\n",
    "        self.y = y_tensor\n",
    "\n",
    "    def __getitem__(self, index):\n",
    "        return (self.x[index], self.y[index])\n",
    "\n",
    "    def __len__(self):\n",
    "        return len(self.x)\n",
    "\n",
    "\n",
    "class PolinomialRegression2ndDegree(nn.Module):\n",
    "    def __init__(self):\n",
    "        super().__init__()\n",
    "        self.a = nn.Parameter(torch.randn(1, requires_grad=True, dtype=torch.float))\n",
    "        self.b = nn.Parameter(torch.randn(1, requires_grad=True, dtype=torch.float))\n",
    "        self.c = nn.Parameter(torch.randn(1, requires_grad=True, dtype=torch.float))\n",
    "\n",
    "    def forward(self, x):\n",
    "        return self.a + self.b * x + self.c * x**2\n",
    "\n",
    "\n",
    "def make_train_step(model, loss_fn, optimizer):\n",
    "    # Формируем функцию, которая выполнит один шаг обучения\n",
    "    def train_step(x, y):\n",
    "        # Переводим модель в режим обучения\n",
    "        model.train()\n",
    "        # Вычислаем прогноз\n",
    "        yhat = model(x)\n",
    "        # Считаем лосс\n",
    "        loss = loss_fn(yhat, y)\n",
    "        # Вычисляем градиенты\n",
    "        loss.backward()\n",
    "        # Обновляем параметры и обнуляем градиенты\n",
    "        optimizer.step()\n",
    "        optimizer.zero_grad()\n",
    "        # Возвращаем лосс\n",
    "        return loss.item()\n",
    "\n",
    "    # Возвращаем функцию для вызова внутри цикла обучения\n",
    "    return train_step"
   ]
  },
  {
   "cell_type": "code",
   "execution_count": null,
   "id": "1660546f-04b0-46b0-b78d-7c48da9dd477",
   "metadata": {},
   "outputs": [],
   "source": []
  },
  {
   "cell_type": "markdown",
   "id": "470bb922-39f4-4671-873b-cc7d3dbaf2b4",
   "metadata": {},
   "source": [
    "## 0. Configs"
   ]
  },
  {
   "cell_type": "code",
   "execution_count": 3,
   "id": "22696352-fa31-45c4-93e9-05add2dcd335",
   "metadata": {},
   "outputs": [
    {
     "data": {
      "text/plain": [
       "<torch._C.Generator at 0x7f95b82d7090>"
      ]
     },
     "execution_count": 3,
     "metadata": {},
     "output_type": "execute_result"
    }
   ],
   "source": [
    "# Configs\n",
    "LR = 0.1\n",
    "N_EPOCHS = 1000\n",
    "TRAIN_SET_SIZE_PERC = 0.80\n",
    "VAL_SET_SIZE_PERC = 0.20\n",
    "TRAIN_BATCH_SIZE = 16\n",
    "VAL_BATCH_SIZE = 20\n",
    "SHUFFLE = True\n",
    "\n",
    "DEVICE = 'cuda' if torch.cuda.is_available() else 'cpu'\n",
    "\n",
    "np.random.seed(42)\n",
    "torch.manual_seed(42)"
   ]
  },
  {
   "cell_type": "code",
   "execution_count": null,
   "id": "ad864c22-cc2c-4fab-a284-5a35a723cba0",
   "metadata": {},
   "outputs": [],
   "source": []
  },
  {
   "cell_type": "markdown",
   "id": "cee6f7d2-6b00-48ea-a585-8366be125d0d",
   "metadata": {},
   "source": [
    "## 1. Подготовка исходных данных"
   ]
  },
  {
   "cell_type": "code",
   "execution_count": 4,
   "id": "081c37bb-54ad-4f8e-b36a-37ef8f5a4de8",
   "metadata": {},
   "outputs": [
    {
     "name": "stdout",
     "output_type": "stream",
     "text": [
      "(tensor([0.7713]), tensor([2.4745]))\n"
     ]
    }
   ],
   "source": [
    "# Initialize data\n",
    "x_train, y_train = generate_regression_dataset(DEVICE)\n",
    "\n",
    "x_train_tensor = torch.from_numpy(x_train).float()\n",
    "y_train_tensor = torch.from_numpy(y_train).float()\n",
    "dataset = TensorDataset(x_train_tensor, y_train_tensor)\n",
    "\n",
    "print(dataset[0])"
   ]
  },
  {
   "cell_type": "code",
   "execution_count": 5,
   "id": "fee33d30-423d-4fec-ab59-2d36b7b29d94",
   "metadata": {},
   "outputs": [],
   "source": [
    "# Prepare Train and Val sets\n",
    "train_dataset, val_dataset = random_split(dataset, [TRAIN_SET_SIZE_PERC, VAL_SET_SIZE_PERC])\n",
    "\n",
    "train_loader = DataLoader(dataset=train_dataset, batch_size=TRAIN_BATCH_SIZE, shuffle=SHUFFLE)\n",
    "val_loader = DataLoader(dataset=val_dataset, batch_size=VAL_BATCH_SIZE)"
   ]
  },
  {
   "cell_type": "code",
   "execution_count": null,
   "id": "ed867b84-a11a-4bd0-9004-6ad003c568d4",
   "metadata": {},
   "outputs": [],
   "source": []
  },
  {
   "cell_type": "markdown",
   "id": "4f7475db-231f-4ecb-8120-85c44ec7c65c",
   "metadata": {},
   "source": [
    "## 2. Обучение модели"
   ]
  },
  {
   "cell_type": "code",
   "execution_count": 6,
   "id": "b5d7ec73-d6fd-419e-baed-9fbf6c3cffd6",
   "metadata": {},
   "outputs": [
    {
     "name": "stdout",
     "output_type": "stream",
     "text": [
      "OrderedDict([('0.a', tensor([1.0498], device='cuda:0')), ('0.b', tensor([1.7781], device='cuda:0')), ('0.c', tensor([0.1830], device='cuda:0'))])\n",
      "\n",
      "Best train loss: 0.007851201109588146\n",
      "Best val loss: tensor(0.0070, device='cuda:0')\n"
     ]
    }
   ],
   "source": [
    "# Initialize model\n",
    "model = nn.Sequential(PolinomialRegression2ndDegree()).to(DEVICE)\n",
    "loss_func = nn.MSELoss(reduction='mean')\n",
    "optimizer = optim.SGD(model.parameters(), lr=LR)\n",
    "\n",
    "# Fit model\n",
    "train_step = make_train_step(model, loss_func, optimizer)\n",
    "for epoch in range(N_EPOCHS):\n",
    "    for x_batch, y_batch in train_loader:\n",
    "        x_batch = x_batch.to(DEVICE)\n",
    "        y_batch = y_batch.to(DEVICE)\n",
    "        loss = train_step(x_batch, y_batch)\n",
    "    with torch.no_grad():\n",
    "        for x_val, y_val in val_loader:\n",
    "            x_val = x_val.to(DEVICE)\n",
    "            y_val = y_val.to(DEVICE)\n",
    "            model.eval()\n",
    "            yhat = model(x_val)\n",
    "            val_loss = loss_func(yhat, y_val)\n",
    "\n",
    "print(model.state_dict())\n",
    "print()\n",
    "print(\"Best train loss:\", loss)\n",
    "print(\"Best val loss:\", val_loss)"
   ]
  },
  {
   "cell_type": "code",
   "execution_count": null,
   "id": "75e2c704-f87f-432f-b2c7-de354c49cb93",
   "metadata": {},
   "outputs": [],
   "source": []
  },
  {
   "cell_type": "code",
   "execution_count": null,
   "id": "1086b97b-cfb9-4fdb-81a2-4a87d41f485b",
   "metadata": {},
   "outputs": [],
   "source": []
  },
  {
   "cell_type": "code",
   "execution_count": null,
   "id": "698cf3c6-d437-413c-b1e5-81e30a4202d3",
   "metadata": {},
   "outputs": [],
   "source": []
  },
  {
   "cell_type": "code",
   "execution_count": null,
   "id": "375c366e-db57-45b6-b5b9-937b2dc07337",
   "metadata": {},
   "outputs": [],
   "source": []
  },
  {
   "cell_type": "code",
   "execution_count": null,
   "id": "a5150325-7e96-484a-bf00-130add41556e",
   "metadata": {},
   "outputs": [],
   "source": []
  },
  {
   "cell_type": "code",
   "execution_count": null,
   "id": "b0baafd2-86cd-456c-9775-c2055b85e9fb",
   "metadata": {},
   "outputs": [],
   "source": []
  },
  {
   "cell_type": "code",
   "execution_count": null,
   "id": "1620775f-26e6-486f-8d07-e44bc1e86b8c",
   "metadata": {},
   "outputs": [],
   "source": []
  },
  {
   "cell_type": "code",
   "execution_count": null,
   "id": "f1906be6-dac0-45f6-b581-d2e2902b1a42",
   "metadata": {},
   "outputs": [],
   "source": []
  },
  {
   "cell_type": "code",
   "execution_count": null,
   "id": "f5f43c94-0930-4330-9efe-2b4e0d9700f9",
   "metadata": {},
   "outputs": [],
   "source": []
  },
  {
   "cell_type": "code",
   "execution_count": null,
   "id": "cffce17a-cc91-4c81-bad7-566185684336",
   "metadata": {},
   "outputs": [],
   "source": []
  },
  {
   "cell_type": "code",
   "execution_count": null,
   "id": "f120d51f-2437-4a11-9ba0-6386dbf42cbb",
   "metadata": {},
   "outputs": [],
   "source": []
  },
  {
   "cell_type": "code",
   "execution_count": null,
   "id": "cc1f7d77-86c4-4c6a-ba54-8a8980bf478e",
   "metadata": {},
   "outputs": [],
   "source": []
  },
  {
   "cell_type": "code",
   "execution_count": null,
   "id": "9fcf9ada-014f-46f5-a148-03408ed4c2a5",
   "metadata": {},
   "outputs": [],
   "source": []
  }
 ],
 "metadata": {
  "kernelspec": {
   "display_name": "Python 3 (ipykernel)",
   "language": "python",
   "name": "python3"
  },
  "language_info": {
   "codemirror_mode": {
    "name": "ipython",
    "version": 3
   },
   "file_extension": ".py",
   "mimetype": "text/x-python",
   "name": "python",
   "nbconvert_exporter": "python",
   "pygments_lexer": "ipython3",
   "version": "3.10.12"
  }
 },
 "nbformat": 4,
 "nbformat_minor": 5
}
