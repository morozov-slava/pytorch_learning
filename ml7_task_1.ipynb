{
 "cells": [
  {
   "cell_type": "markdown",
   "id": "32162c99-9328-4b82-8891-e08555554ad2",
   "metadata": {},
   "source": [
    "## Задание\n",
    "\n",
    "Найдите небольшой датасет, подходящий для расширения ImageNet, с классом объектов, которого в ImageNet точно нету, и дообучите готовую модель на этом датасете. Какая точность у вас получится?"
   ]
  },
  {
   "cell_type": "markdown",
   "id": "32e1f211-87cb-47b2-af1b-3980d7f5297e",
   "metadata": {},
   "source": [
    "**Решение:**\n",
    "\n",
    "Рассмотрим датасет по предсказанию различных видов бабочек.\n",
    "  \n",
    "Ссылка на датасет: https://www.kaggle.com/datasets/phucthaiv02/butterfly-image-classification"
   ]
  },
  {
   "cell_type": "code",
   "execution_count": 2,
   "id": "f8cdac0f-23f5-4b10-bf32-14f1b6c12eee",
   "metadata": {},
   "outputs": [
    {
     "data": {
      "text/plain": [
       "<contextlib.ExitStack at 0x7fc30a829630>"
      ]
     },
     "execution_count": 2,
     "metadata": {},
     "output_type": "execute_result"
    }
   ],
   "source": [
    "import time\n",
    "import os\n",
    "import copy\n",
    "from __future__ import print_function, division\n",
    "import shutil\n",
    "\n",
    "import pandas as pd\n",
    "import numpy as np\n",
    "import torch\n",
    "import torch.nn as nn\n",
    "import torch.optim as optim\n",
    "import torch.nn.functional as F\n",
    "import torchvision\n",
    "from torchvision import datasets, models, transforms\n",
    "from torchvision.datasets import ImageFolder\n",
    "\n",
    "from sklearn.model_selection import train_test_split\n",
    "\n",
    "import matplotlib.pyplot as plt\n",
    "\n",
    "plt.ion()"
   ]
  },
  {
   "cell_type": "code",
   "execution_count": 3,
   "id": "960e3e24-9f69-422b-a01a-2d17b500a438",
   "metadata": {},
   "outputs": [],
   "source": [
    "# Configs\n",
    "device = torch.device(\"cuda:0\" if torch.cuda.is_available() else \"cpu\")"
   ]
  },
  {
   "cell_type": "code",
   "execution_count": 4,
   "id": "3bd30e43-7d61-42b8-a1fc-f17635094b3e",
   "metadata": {},
   "outputs": [],
   "source": [
    "# os.environ[\"CUDA_LAUNCH_BLOCKING\"] = \"1\""
   ]
  },
  {
   "cell_type": "code",
   "execution_count": 5,
   "id": "31052e8d-c412-4b64-82d2-be34e67a9fa6",
   "metadata": {},
   "outputs": [],
   "source": [
    "# Configs\n",
    "TRAIN_DATA_PATH = \"data_butterfly/train\"\n",
    "TEST_DATA_PATH = \"data_butterfly/test\"\n",
    "VAL_DATA_PATH = \"data_butterfly/val\""
   ]
  },
  {
   "cell_type": "code",
   "execution_count": null,
   "id": "73b93557-386e-4ec7-8808-586188747ca0",
   "metadata": {},
   "outputs": [],
   "source": []
  },
  {
   "cell_type": "code",
   "execution_count": null,
   "id": "10dd1645-8f88-4f06-96e1-dc014f4089b2",
   "metadata": {},
   "outputs": [],
   "source": []
  },
  {
   "cell_type": "markdown",
   "id": "93f7e610-d7ee-4015-975b-679aca127c78",
   "metadata": {},
   "source": [
    "### 1. Read and preprocess initial data"
   ]
  },
  {
   "cell_type": "code",
   "execution_count": 6,
   "id": "96341ce8-0b67-4ffb-ad3f-64b864eaf044",
   "metadata": {},
   "outputs": [
    {
     "name": "stdout",
     "output_type": "stream",
     "text": [
      "Train dataset shape: (6499, 2)\n",
      "Test dataset shape: (2786, 1)\n"
     ]
    }
   ],
   "source": [
    "train_dataset = pd.read_csv(\"data_butterfly/Training_set.csv\")\n",
    "test_dataset = pd.read_csv(\"data_butterfly/Testing_set.csv\")\n",
    "\n",
    "print(\"Train dataset shape:\", train_dataset.shape)\n",
    "print(\"Test dataset shape:\", test_dataset.shape)"
   ]
  },
  {
   "cell_type": "code",
   "execution_count": 7,
   "id": "ba62b6a8-8dd1-4b82-a2b2-85886d8cc6f1",
   "metadata": {},
   "outputs": [
    {
     "data": {
      "text/plain": [
       "75"
      ]
     },
     "execution_count": 7,
     "metadata": {},
     "output_type": "execute_result"
    }
   ],
   "source": [
    "train_dataset[\"label\"] = train_dataset[\"label\"].str.lower()\n",
    "train_dataset[\"label\"].nunique()"
   ]
  },
  {
   "cell_type": "code",
   "execution_count": null,
   "id": "ab263639-ebf9-440f-890d-f01d821f90ef",
   "metadata": {},
   "outputs": [],
   "source": []
  },
  {
   "cell_type": "code",
   "execution_count": null,
   "id": "7d64ce85-ce36-41ee-a0af-14a3cbdd4986",
   "metadata": {},
   "outputs": [],
   "source": []
  },
  {
   "cell_type": "markdown",
   "id": "ebccefe7-3b9f-4b13-9d5a-47eae3f2032f",
   "metadata": {},
   "source": [
    "### 2. Prepare modeling datasets"
   ]
  },
  {
   "cell_type": "code",
   "execution_count": null,
   "id": "245ffdc9-90ef-49b5-9ee6-8e26efe979d2",
   "metadata": {},
   "outputs": [],
   "source": []
  },
  {
   "cell_type": "code",
   "execution_count": null,
   "id": "2a544a6e-44b7-41b5-a5bf-da9af36765f0",
   "metadata": {},
   "outputs": [],
   "source": []
  },
  {
   "cell_type": "markdown",
   "id": "9af93e3d-206d-4cde-9df0-c90d4ea50b9a",
   "metadata": {},
   "source": [
    "#### 2.1. Train/Val splitting"
   ]
  },
  {
   "cell_type": "code",
   "execution_count": 8,
   "id": "c4da564a-3c02-4d9f-a28a-063da3a68ada",
   "metadata": {},
   "outputs": [
    {
     "data": {
      "text/plain": [
       "((5524, 2), (975, 2))"
      ]
     },
     "execution_count": 8,
     "metadata": {},
     "output_type": "execute_result"
    }
   ],
   "source": [
    "X_train, X_val = train_test_split(train_dataset, test_size=0.15, stratify=train_dataset[\"label\"])\n",
    "X_train.shape, X_val.shape"
   ]
  },
  {
   "cell_type": "code",
   "execution_count": 9,
   "id": "ff15c838-0d78-4dae-866a-31e818aab74d",
   "metadata": {},
   "outputs": [],
   "source": [
    "# Create folder with val images\n",
    "def move_files_to_folder(source_folder: str, destination_folder: str, filenames: list):\n",
    "    \"\"\"\n",
    "    Important: Remove directory if already exists \n",
    "    \"\"\"\n",
    "    if os.path.exists(destination_folder):\n",
    "        # move files back\n",
    "        shutil.move(\n",
    "            src=os.path.join(destination_folder, filename),\n",
    "            dst=os.path.join(source_folder, filename)\n",
    "        )\n",
    "        os.rmdir(destination_folder)\n",
    "    os.mkdir(destination_folder)\n",
    "    for filename in filenames:\n",
    "        shutil.move(\n",
    "            src=os.path.join(source_folder, filename),\n",
    "            dst=os.path.join(destination_folder, filename)\n",
    "        )\n",
    "    return\n",
    "\n",
    "def split_files_by_classes(df: pd.DataFrame, source_path: str, destination_path: str):\n",
    "    if (\"filename\" not in df.columns) or (\"label\" not in df.columns):\n",
    "        raise KeyError(\"Dataframe must contains columns 'filename' and 'label'\")\n",
    "    for i in df.index:\n",
    "        class_path = os.path.join(destination_path, df[\"label\"][i])\n",
    "        if not os.path.exists(class_path):\n",
    "            os.mkdir(class_path)\n",
    "        shutil.move(\n",
    "            src=os.path.join(source_path, df[\"filename\"][i]),\n",
    "            dst=os.path.join(class_path, df[\"filename\"][i])\n",
    "        )\n",
    "    return\n",
    "\n",
    "\n",
    "def drop_identifier_files(initial_path: str):\n",
    "    for filename in os.listdir(initial_path):\n",
    "        if filename.endswith(\".Identifier\"):\n",
    "            os.system(f\"rm {os.path.join(initial_path, filename)}\")\n",
    "    return"
   ]
  },
  {
   "cell_type": "code",
   "execution_count": 11,
   "id": "f3cf9349-17de-4fee-a550-385932df13a8",
   "metadata": {},
   "outputs": [],
   "source": [
    "move_files_to_folder(TRAIN_DATA_PATH, VAL_DATA_PATH, X_val[\"filename\"].tolist())"
   ]
  },
  {
   "cell_type": "code",
   "execution_count": 13,
   "id": "31efe5a3-57f1-4f2d-8665-d163e5b2c16f",
   "metadata": {},
   "outputs": [],
   "source": [
    "split_files_by_classes(X_train, TRAIN_DATA_PATH, TRAIN_DATA_PATH)\n",
    "split_files_by_classes(X_val, VAL_DATA_PATH, VAL_DATA_PATH)\n",
    "\n",
    "drop_identifier_files(TRAIN_DATA_PATH)\n",
    "drop_identifier_files(VAL_DATA_PATH)"
   ]
  },
  {
   "cell_type": "code",
   "execution_count": null,
   "id": "0d14fd0b-0aea-42f2-9489-be2c03448922",
   "metadata": {},
   "outputs": [],
   "source": []
  },
  {
   "cell_type": "code",
   "execution_count": null,
   "id": "a1c895c3-eba1-4dd4-a787-1efc0ae381b3",
   "metadata": {},
   "outputs": [],
   "source": []
  },
  {
   "cell_type": "markdown",
   "id": "554bd402-d596-494e-b293-3f5cb1f5071c",
   "metadata": {},
   "source": [
    "#### 2.2. Prepare modeling datasets"
   ]
  },
  {
   "cell_type": "code",
   "execution_count": 14,
   "id": "42374220-55da-4299-bead-1422007342cd",
   "metadata": {},
   "outputs": [],
   "source": [
    "data_transforms = {\n",
    "    'train': transforms.Compose(\n",
    "\t    [\n",
    "\t        transforms.RandomResizedCrop(224),\n",
    "\t        transforms.RandomHorizontalFlip(),\n",
    "\t        transforms.ToTensor(),\n",
    "\t        transforms.Normalize(\n",
    "\t\t        [0.485, 0.456, 0.406], [0.229, 0.224, 0.225]\n",
    "\t\t    )\n",
    "\t    ]\n",
    "\t),\n",
    "    'val': transforms.Compose(\n",
    "\t    [\n",
    "\t\t    transforms.Resize(256),\n",
    "\t\t    transforms.CenterCrop(224),\n",
    "\t\t    transforms.ToTensor(),\n",
    "\t\t    transforms.Normalize(\n",
    "\t\t\t    [0.485, 0.456, 0.406], [0.229, 0.224, 0.225]\n",
    "\t\t\t)\n",
    "\t\t]\n",
    "\t),\n",
    "}"
   ]
  },
  {
   "cell_type": "code",
   "execution_count": 15,
   "id": "9cef7f6c-31fa-4ae8-a019-cc2c4f117223",
   "metadata": {},
   "outputs": [],
   "source": [
    "train_images = ImageFolder(\n",
    "    TRAIN_DATA_PATH,\n",
    "    transform=data_transforms[\"train\"]\n",
    ")\n",
    "val_images = ImageFolder(\n",
    "    VAL_DATA_PATH,\n",
    "    transform=data_transforms[\"val\"]\n",
    ")"
   ]
  },
  {
   "cell_type": "code",
   "execution_count": 16,
   "id": "07490bbc-e8a4-4d9c-ad2d-c01c37dc5e3d",
   "metadata": {},
   "outputs": [],
   "source": [
    "trainloader = torch.utils.data.DataLoader(dataset=train_images, batch_size=64, shuffle=True)\n",
    "valloader = torch.utils.data.DataLoader(dataset=val_images, batch_size=64, shuffle=True)"
   ]
  },
  {
   "cell_type": "code",
   "execution_count": 17,
   "id": "440ab167-e82e-47f8-856f-0ec41ede19f2",
   "metadata": {},
   "outputs": [
    {
     "data": {
      "text/plain": [
       "75"
      ]
     },
     "execution_count": 17,
     "metadata": {},
     "output_type": "execute_result"
    }
   ],
   "source": [
    "len(train_images.classes)"
   ]
  },
  {
   "cell_type": "code",
   "execution_count": 18,
   "id": "13f1b828-e85f-49bf-9814-051983c36f09",
   "metadata": {},
   "outputs": [
    {
     "data": {
      "text/plain": [
       "75"
      ]
     },
     "execution_count": 18,
     "metadata": {},
     "output_type": "execute_result"
    }
   ],
   "source": [
    "len(val_images.classes)"
   ]
  },
  {
   "cell_type": "code",
   "execution_count": null,
   "id": "b5b4f01a-8994-42b7-80ef-660431022104",
   "metadata": {},
   "outputs": [],
   "source": []
  },
  {
   "cell_type": "code",
   "execution_count": null,
   "id": "4b7e4abc-f5b4-45da-b2a5-5cdd0fb5bde7",
   "metadata": {},
   "outputs": [],
   "source": []
  },
  {
   "cell_type": "markdown",
   "id": "57d14613-f5da-4e06-9ee3-3c18b494eb0d",
   "metadata": {},
   "source": [
    "### 3. Fit model"
   ]
  },
  {
   "cell_type": "code",
   "execution_count": 19,
   "id": "201dd3f9-6fa3-4834-8a2a-b5e79e4719d3",
   "metadata": {},
   "outputs": [],
   "source": [
    "class AdditionalLayers(nn.Module):\n",
    "    def __init__(self):\n",
    "        super().__init__()\n",
    "        self.linear1 = nn.Linear(512, 128) \n",
    "        self.linear2 = nn.Linear(128, 75) # 75 classes for butterfly dataset\n",
    "    \n",
    "    def forward(self, x):\n",
    "        x = F.relu(self.linear1(x))\n",
    "        x = self.linear2(x)\n",
    "        return x"
   ]
  },
  {
   "cell_type": "code",
   "execution_count": 20,
   "id": "588ef8e6-cb6e-4039-b8e4-a3e1c13512d3",
   "metadata": {
    "scrolled": true
   },
   "outputs": [
    {
     "name": "stderr",
     "output_type": "stream",
     "text": [
      "/home/slava/.local/lib/python3.10/site-packages/torchvision/models/_utils.py:208: UserWarning: The parameter 'pretrained' is deprecated since 0.13 and may be removed in the future, please use 'weights' instead.\n",
      "  warnings.warn(\n",
      "/home/slava/.local/lib/python3.10/site-packages/torchvision/models/_utils.py:223: UserWarning: Arguments other than a weight enum or `None` for 'weights' are deprecated since 0.13 and may be removed in the future. The current behavior is equivalent to passing `weights=ResNet18_Weights.IMAGENET1K_V1`. You can also use `weights=ResNet18_Weights.DEFAULT` to get the most up-to-date weights.\n",
      "  warnings.warn(msg)\n"
     ]
    },
    {
     "name": "stdout",
     "output_type": "stream",
     "text": [
      "ResNet(\n",
      "  (conv1): Conv2d(3, 64, kernel_size=(7, 7), stride=(2, 2), padding=(3, 3), bias=False)\n",
      "  (bn1): BatchNorm2d(64, eps=1e-05, momentum=0.1, affine=True, track_running_stats=True)\n",
      "  (relu): ReLU(inplace=True)\n",
      "  (maxpool): MaxPool2d(kernel_size=3, stride=2, padding=1, dilation=1, ceil_mode=False)\n",
      "  (layer1): Sequential(\n",
      "    (0): BasicBlock(\n",
      "      (conv1): Conv2d(64, 64, kernel_size=(3, 3), stride=(1, 1), padding=(1, 1), bias=False)\n",
      "      (bn1): BatchNorm2d(64, eps=1e-05, momentum=0.1, affine=True, track_running_stats=True)\n",
      "      (relu): ReLU(inplace=True)\n",
      "      (conv2): Conv2d(64, 64, kernel_size=(3, 3), stride=(1, 1), padding=(1, 1), bias=False)\n",
      "      (bn2): BatchNorm2d(64, eps=1e-05, momentum=0.1, affine=True, track_running_stats=True)\n",
      "    )\n",
      "    (1): BasicBlock(\n",
      "      (conv1): Conv2d(64, 64, kernel_size=(3, 3), stride=(1, 1), padding=(1, 1), bias=False)\n",
      "      (bn1): BatchNorm2d(64, eps=1e-05, momentum=0.1, affine=True, track_running_stats=True)\n",
      "      (relu): ReLU(inplace=True)\n",
      "      (conv2): Conv2d(64, 64, kernel_size=(3, 3), stride=(1, 1), padding=(1, 1), bias=False)\n",
      "      (bn2): BatchNorm2d(64, eps=1e-05, momentum=0.1, affine=True, track_running_stats=True)\n",
      "    )\n",
      "  )\n",
      "  (layer2): Sequential(\n",
      "    (0): BasicBlock(\n",
      "      (conv1): Conv2d(64, 128, kernel_size=(3, 3), stride=(2, 2), padding=(1, 1), bias=False)\n",
      "      (bn1): BatchNorm2d(128, eps=1e-05, momentum=0.1, affine=True, track_running_stats=True)\n",
      "      (relu): ReLU(inplace=True)\n",
      "      (conv2): Conv2d(128, 128, kernel_size=(3, 3), stride=(1, 1), padding=(1, 1), bias=False)\n",
      "      (bn2): BatchNorm2d(128, eps=1e-05, momentum=0.1, affine=True, track_running_stats=True)\n",
      "      (downsample): Sequential(\n",
      "        (0): Conv2d(64, 128, kernel_size=(1, 1), stride=(2, 2), bias=False)\n",
      "        (1): BatchNorm2d(128, eps=1e-05, momentum=0.1, affine=True, track_running_stats=True)\n",
      "      )\n",
      "    )\n",
      "    (1): BasicBlock(\n",
      "      (conv1): Conv2d(128, 128, kernel_size=(3, 3), stride=(1, 1), padding=(1, 1), bias=False)\n",
      "      (bn1): BatchNorm2d(128, eps=1e-05, momentum=0.1, affine=True, track_running_stats=True)\n",
      "      (relu): ReLU(inplace=True)\n",
      "      (conv2): Conv2d(128, 128, kernel_size=(3, 3), stride=(1, 1), padding=(1, 1), bias=False)\n",
      "      (bn2): BatchNorm2d(128, eps=1e-05, momentum=0.1, affine=True, track_running_stats=True)\n",
      "    )\n",
      "  )\n",
      "  (layer3): Sequential(\n",
      "    (0): BasicBlock(\n",
      "      (conv1): Conv2d(128, 256, kernel_size=(3, 3), stride=(2, 2), padding=(1, 1), bias=False)\n",
      "      (bn1): BatchNorm2d(256, eps=1e-05, momentum=0.1, affine=True, track_running_stats=True)\n",
      "      (relu): ReLU(inplace=True)\n",
      "      (conv2): Conv2d(256, 256, kernel_size=(3, 3), stride=(1, 1), padding=(1, 1), bias=False)\n",
      "      (bn2): BatchNorm2d(256, eps=1e-05, momentum=0.1, affine=True, track_running_stats=True)\n",
      "      (downsample): Sequential(\n",
      "        (0): Conv2d(128, 256, kernel_size=(1, 1), stride=(2, 2), bias=False)\n",
      "        (1): BatchNorm2d(256, eps=1e-05, momentum=0.1, affine=True, track_running_stats=True)\n",
      "      )\n",
      "    )\n",
      "    (1): BasicBlock(\n",
      "      (conv1): Conv2d(256, 256, kernel_size=(3, 3), stride=(1, 1), padding=(1, 1), bias=False)\n",
      "      (bn1): BatchNorm2d(256, eps=1e-05, momentum=0.1, affine=True, track_running_stats=True)\n",
      "      (relu): ReLU(inplace=True)\n",
      "      (conv2): Conv2d(256, 256, kernel_size=(3, 3), stride=(1, 1), padding=(1, 1), bias=False)\n",
      "      (bn2): BatchNorm2d(256, eps=1e-05, momentum=0.1, affine=True, track_running_stats=True)\n",
      "    )\n",
      "  )\n",
      "  (layer4): Sequential(\n",
      "    (0): BasicBlock(\n",
      "      (conv1): Conv2d(256, 512, kernel_size=(3, 3), stride=(2, 2), padding=(1, 1), bias=False)\n",
      "      (bn1): BatchNorm2d(512, eps=1e-05, momentum=0.1, affine=True, track_running_stats=True)\n",
      "      (relu): ReLU(inplace=True)\n",
      "      (conv2): Conv2d(512, 512, kernel_size=(3, 3), stride=(1, 1), padding=(1, 1), bias=False)\n",
      "      (bn2): BatchNorm2d(512, eps=1e-05, momentum=0.1, affine=True, track_running_stats=True)\n",
      "      (downsample): Sequential(\n",
      "        (0): Conv2d(256, 512, kernel_size=(1, 1), stride=(2, 2), bias=False)\n",
      "        (1): BatchNorm2d(512, eps=1e-05, momentum=0.1, affine=True, track_running_stats=True)\n",
      "      )\n",
      "    )\n",
      "    (1): BasicBlock(\n",
      "      (conv1): Conv2d(512, 512, kernel_size=(3, 3), stride=(1, 1), padding=(1, 1), bias=False)\n",
      "      (bn1): BatchNorm2d(512, eps=1e-05, momentum=0.1, affine=True, track_running_stats=True)\n",
      "      (relu): ReLU(inplace=True)\n",
      "      (conv2): Conv2d(512, 512, kernel_size=(3, 3), stride=(1, 1), padding=(1, 1), bias=False)\n",
      "      (bn2): BatchNorm2d(512, eps=1e-05, momentum=0.1, affine=True, track_running_stats=True)\n",
      "    )\n",
      "  )\n",
      "  (avgpool): AdaptiveAvgPool2d(output_size=(1, 1))\n",
      "  (fc): Linear(in_features=512, out_features=1000, bias=True)\n",
      ")\n"
     ]
    }
   ],
   "source": [
    "model =  models.resnet18(pretrained=True).to(device)\n",
    "\n",
    "print(model)"
   ]
  },
  {
   "cell_type": "code",
   "execution_count": 21,
   "id": "d2e87adb-1fad-4309-b88c-b539c5146b72",
   "metadata": {},
   "outputs": [
    {
     "name": "stdout",
     "output_type": "stream",
     "text": [
      "AdditionalLayers(\n",
      "  (linear1): Linear(in_features=512, out_features=128, bias=True)\n",
      "  (linear2): Linear(in_features=128, out_features=75, bias=True)\n",
      ")\n"
     ]
    }
   ],
   "source": [
    "additional_model = AdditionalLayers().to(device)\n",
    "print(additional_model)"
   ]
  },
  {
   "cell_type": "code",
   "execution_count": 22,
   "id": "67b26c8d-7bd5-4f6f-922e-27f0d6282e23",
   "metadata": {},
   "outputs": [],
   "source": [
    "model.fc = additional_model"
   ]
  },
  {
   "cell_type": "code",
   "execution_count": 23,
   "id": "9b35cd08-2ddf-491f-b802-45b0404fbacb",
   "metadata": {},
   "outputs": [],
   "source": [
    "for param in model.parameters():\n",
    "    param.requires_grad = False\n",
    "for param in model.fc.parameters():\n",
    "    param.requires_grad = True"
   ]
  },
  {
   "cell_type": "code",
   "execution_count": 24,
   "id": "7efd0c5e-2ed1-453c-8c03-7db4576ff639",
   "metadata": {},
   "outputs": [],
   "source": [
    "criterion = nn.CrossEntropyLoss()\n",
    "optimizer = optim.Adam(model.parameters(), lr=0.001)"
   ]
  },
  {
   "cell_type": "code",
   "execution_count": 25,
   "id": "30a428d3-4fcd-4a88-add8-9e660357433a",
   "metadata": {},
   "outputs": [
    {
     "name": "stdout",
     "output_type": "stream",
     "text": [
      "epoch 1/5\n",
      "Training loss: 0.0566727658443741, accuracy: 0.21850108616944244\n",
      "Validation loss: 0.039312229401026015, accuracy: 0.5312820512820513\n",
      "epoch 2/5\n",
      "Training loss: 0.03142637228033492, accuracy: 0.5581100651701666\n",
      "Validation loss: 0.020703733884371245, accuracy: 0.718974358974359\n",
      "epoch 3/5\n",
      "Training loss: 0.021454615827318037, accuracy: 0.6663649529326575\n",
      "Validation loss: 0.01495029969093127, accuracy: 0.7692307692307693\n",
      "epoch 4/5\n",
      "Training loss: 0.017186433411352363, accuracy: 0.7266473569876901\n",
      "Validation loss: 0.01314560755705222, accuracy: 0.7825641025641026\n",
      "epoch 5/5\n",
      "Training loss: 0.014968867020534486, accuracy: 0.7501810282404056\n",
      "Validation loss: 0.011281757813233595, accuracy: 0.798974358974359\n"
     ]
    }
   ],
   "source": [
    "train_loss = []\n",
    "val_loss = []\n",
    "\n",
    "epochs = 5\n",
    "\n",
    "for epoch in range(epochs):\n",
    "    print(\"epoch {}/{}\".format(epoch+1,epochs))\n",
    "    running_loss = 0.0\n",
    "    running_score = 0.0\n",
    "    for image, label in trainloader:\n",
    "        image = image.to(device)\n",
    "        label = label.to(device)\n",
    "        optimizer.zero_grad()\n",
    "        y_pred = model.forward(image)\n",
    "        loss = criterion(y_pred, label)         \n",
    "        loss.backward() # calculate derivatives \n",
    "        optimizer.step() # update parameters\n",
    "        val, index_ = torch.max(y_pred, axis=1)\n",
    "        running_score += torch.sum(index_ == label.data).item()\n",
    "        running_loss += loss.item()\n",
    "        \n",
    "    epoch_score = running_score / len(trainloader.dataset)\n",
    "    epoch_loss = running_loss / len(trainloader.dataset)\n",
    "    train_loss.append(epoch_loss)\n",
    "    print(\"Training loss: {}, accuracy: {}\".format(epoch_loss, epoch_score))\n",
    "  \n",
    "    with torch.no_grad():\n",
    "        model.eval()\n",
    "        running_loss = 0.0\n",
    "        running_score = 0.0\n",
    "        for image, label in valloader:\n",
    "            image = image.to(device)\n",
    "            label = label.to(device)\n",
    "            optimizer.zero_grad()\n",
    "            y_pred = model.forward(image)\n",
    "            loss = criterion(y_pred, label)\n",
    "            running_loss += loss.item()\n",
    "\n",
    "            val, index_ = torch.max(y_pred, axis=1)\n",
    "            running_score += torch.sum(index_ == label.data).item()\n",
    "            \n",
    "        epoch_score = running_score / len(valloader.dataset)\n",
    "        epoch_loss = running_loss / len(valloader.dataset)\n",
    "        val_loss.append(epoch_loss)\n",
    "        print(\"Validation loss: {}, accuracy: {}\".format(epoch_loss, epoch_score))"
   ]
  },
  {
   "cell_type": "code",
   "execution_count": 26,
   "id": "6e79e923-a3c6-40f4-9838-ad8e4b9999bd",
   "metadata": {},
   "outputs": [
    {
     "data": {
      "image/png": "[encoded data removed]",
      "text/plain": [
       "<Figure size 800x400 with 1 Axes>"
      ]
     },
     "metadata": {},
     "output_type": "display_data"
    }
   ],
   "source": [
    "plt.figure(figsize=(8, 4))\n",
    "plt.plot(range(1, len(train_loss)+1), train_loss, label=\"train\", color=\"green\")\n",
    "plt.plot(range(1, len(val_loss)+1), val_loss, label=\"validation\", color=\"red\")\n",
    "plt.title(\"Loss train VS validation set\")\n",
    "plt.legend()\n",
    "plt.show()"
   ]
  },
  {
   "cell_type": "code",
   "execution_count": null,
   "id": "32daf904-b1cb-4f2a-ad0c-8d065dacb400",
   "metadata": {},
   "outputs": [],
   "source": []
  },
  {
   "cell_type": "code",
   "execution_count": null,
   "id": "b2b46358-dfaf-4882-b334-9d84fbdaad4f",
   "metadata": {},
   "outputs": [],
   "source": []
  },
  {
   "cell_type": "code",
   "execution_count": null,
   "id": "6459f5b3-1371-419a-915b-9a7571fc8e8b",
   "metadata": {},
   "outputs": [],
   "source": []
  }
 ],
 "metadata": {
  "kernelspec": {
   "display_name": "Python 3 (ipykernel)",
   "language": "python",
   "name": "python3"
  },
  "language_info": {
   "codemirror_mode": {
    "name": "ipython",
    "version": 3
   },
   "file_extension": ".py",
   "mimetype": "text/x-python",
   "name": "python",
   "nbconvert_exporter": "python",
   "pygments_lexer": "ipython3",
   "version": "3.10.12"
  }
 },
 "nbformat": 4,
 "nbformat_minor": 5
}
