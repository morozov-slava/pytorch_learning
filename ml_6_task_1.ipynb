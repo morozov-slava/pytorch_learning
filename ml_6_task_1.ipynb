{
 "cells": [
  {
   "cell_type": "markdown",
   "id": "a6bee580-87ef-4ea9-86e3-b6f8f227f134",
   "metadata": {},
   "source": [
    "## Задание\n",
    "\n",
    "Увеличение количества эпох (шагов обучения) существенно повышает качество модели. Но есть и другие способы - поэкспериментируйте например с добавлением новых свёрточных или линейных слоёв, размерами фильтров и их количеством. В процессе экспериментов избегайте переобучения - когда модель показывает отличные результаты на обучающей выборке, но невысокие на тестовой.\n",
    "\n",
    "В следующем занятии мы займёмся экспериментами с уже обученными моделями."
   ]
  },
  {
   "cell_type": "code",
   "execution_count": 12,
   "id": "69ceccb9-2531-4a06-8929-25bbc59e5896",
   "metadata": {},
   "outputs": [],
   "source": [
    "import time\n",
    "import numpy as np\n",
    "\n",
    "import torch\n",
    "import torch.nn.functional as F\n",
    "from torch import optim, nn\n",
    "import torchvision\n",
    "import torchvision.datasets as dsets\n",
    "import torchvision.transforms as transforms\n",
    "\n",
    "import matplotlib.pyplot as plt\n",
    "plt.style.use(\"ggplot\")"
   ]
  },
  {
   "cell_type": "code",
   "execution_count": 13,
   "id": "fe4c98c4-aa2e-4221-9e36-66917de8beea",
   "metadata": {},
   "outputs": [],
   "source": [
    "def make_train_step(model, loss_fn, optimizer):\n",
    "    def train_step(x, y):\n",
    "        model.train()\n",
    "        yhat = model(x)\n",
    "        loss = loss_fn(yhat, y)\n",
    "        loss.backward()\n",
    "        optimizer.step()\n",
    "        optimizer.zero_grad()\n",
    "        return loss.item()\n",
    "    return train_step\n",
    "\n",
    "\n",
    "def plot_learning_curve(loss_array: list):\n",
    "    plt.figure(figsize=(8, 4))\n",
    "    plt.plot(range(len(loss_array)), loss_array)\n",
    "    plt.title('Learning curve')\n",
    "    plt.xlabel('Epoch')\n",
    "    plt.ylabel('Loss')\n",
    "    plt.show()"
   ]
  },
  {
   "cell_type": "code",
   "execution_count": 3,
   "id": "e54389f9-a28e-413a-88e7-86c66044ff8a",
   "metadata": {},
   "outputs": [],
   "source": [
    "# инициализируем девайс\n",
    "device = 'cuda' if torch.cuda.is_available() else 'cpu'"
   ]
  },
  {
   "cell_type": "code",
   "execution_count": null,
   "id": "f89674c3-dd88-402a-ac99-22ff48cebe55",
   "metadata": {},
   "outputs": [],
   "source": []
  },
  {
   "cell_type": "markdown",
   "id": "54ab5964-010b-45e6-8a3c-6ea2654aec0b",
   "metadata": {},
   "source": [
    "## Baseline"
   ]
  },
  {
   "cell_type": "code",
   "execution_count": 4,
   "id": "26cfe720-9bab-49ad-9ff9-433efb2cd539",
   "metadata": {},
   "outputs": [],
   "source": [
    "INPUT_SIZE = 3*32*32   # Размер изображения в точках * количество цветов\n",
    "NUM_CLASSES = 10       # Количество распознающихся классов (10 видов изображений)\n",
    "N_EPOCHS = 2           # Количество эпох\n",
    "BATCH_SIZE = 4        # Размер мини-пакета входных данных\n",
    "LR = 0.001             # Скорость обучения"
   ]
  },
  {
   "cell_type": "code",
   "execution_count": 5,
   "id": "bb0787d6-78ad-4244-a8de-9ebf306a37bd",
   "metadata": {},
   "outputs": [
    {
     "name": "stdout",
     "output_type": "stream",
     "text": [
      "Files already downloaded and verified\n",
      "Files already downloaded and verified\n",
      "50000\n",
      "10000\n"
     ]
    }
   ],
   "source": [
    "transform = transforms.Compose(\n",
    "    [\n",
    "        transforms.ToTensor(),\n",
    "        transforms.Normalize((0.5, 0.5, 0.5), (0.5, 0.5, 0.5))\n",
    "    ]\n",
    ")\n",
    "\n",
    "cifar_trainset = dsets.CIFAR10(root='./data', train=True, download=True, transform=transform)\n",
    "cifar_testset = dsets.CIFAR10(root='./data', train=False, download=True, transform=transform)\n",
    "print(len(cifar_trainset))\n",
    "print(len(cifar_testset))"
   ]
  },
  {
   "cell_type": "code",
   "execution_count": 6,
   "id": "2b3a34e9-26ca-4bc3-bc26-db48e698a50e",
   "metadata": {},
   "outputs": [],
   "source": [
    "train_loader = torch.utils.data.DataLoader(dataset=cifar_trainset,\n",
    "                                           batch_size=BATCH_SIZE,\n",
    "                                           shuffle=True)\n",
    "\n",
    "test_loader = torch.utils.data.DataLoader(dataset=cifar_testset,\n",
    "                                          batch_size=BATCH_SIZE,\n",
    "                                          shuffle=False)"
   ]
  },
  {
   "cell_type": "code",
   "execution_count": 7,
   "id": "f8f2afee-60fa-486a-aa72-8dd151b1d642",
   "metadata": {},
   "outputs": [],
   "source": [
    "class CifarModel(nn.Module):\n",
    "    def __init__(self):\n",
    "        super(CifarModel, self).__init__()\n",
    "        self.conv1 = nn.Conv2d(in_channels=3, out_channels=6, kernel_size=5)\n",
    "        self.pool = nn.MaxPool2d(kernel_size=2, stride=2)\n",
    "        self.conv2 = nn.Conv2d(in_channels=6, out_channels=16, kernel_size=5)\n",
    "        self.fc1 = nn.Linear(16 * 5 * 5, 120)\n",
    "        self.fc2 = nn.Linear(120, 84)\n",
    "        self.fc3 = nn.Linear(84, 10)\n",
    "\n",
    "    def forward(self, x):\n",
    "        x = self.pool(F.relu(self.conv1(x)))\n",
    "        x = self.pool(F.relu(self.conv2(x)))\n",
    "        x = x.view(-1, 16 * 5 * 5)\n",
    "        x = F.relu(self.fc1(x))\n",
    "        x = F.relu(self.fc2(x))\n",
    "        x = self.fc3(x)\n",
    "        return x"
   ]
  },
  {
   "cell_type": "code",
   "execution_count": 8,
   "id": "e41a1094-e2d5-430c-b35a-f6dcb01e84d6",
   "metadata": {},
   "outputs": [
    {
     "name": "stdout",
     "output_type": "stream",
     "text": [
      "1.4458816051483154\n",
      "Total duration (minutes): 0.8668748577435811\n"
     ]
    }
   ],
   "source": [
    "start_time = time.time()\n",
    "\n",
    "model = CifarModel()\n",
    "model.to(device)\n",
    "\n",
    "loss_fn = torch.nn.CrossEntropyLoss()\n",
    "optimizer = optim.Adam(model.parameters(), lr=LR)\n",
    "\n",
    "train_step = make_train_step(model, loss_fn, optimizer)\n",
    "\n",
    "for epoch in range(N_EPOCHS):\n",
    "    for images, labels in train_loader:\n",
    "        images = images.to(device)\n",
    "        labels = labels.to(device)\n",
    "        loss = train_step(images, labels)\n",
    "\n",
    "end_time = time.time() - start_time\n",
    "\n",
    "# print(model.state_dict())\n",
    "print(loss)\n",
    "print(\"Total duration (minutes):\", end_time / 60)"
   ]
  },
  {
   "cell_type": "code",
   "execution_count": 9,
   "id": "4865ea78-3309-49f7-b08c-fea1928c2b45",
   "metadata": {},
   "outputs": [
    {
     "name": "stdout",
     "output_type": "stream",
     "text": [
      "Точность: 56.05 %\n"
     ]
    }
   ],
   "source": [
    "with torch.no_grad(): # проверяем на тестовой выборке\n",
    "    correct = 0\n",
    "    total = 0\n",
    "    for images, labels in test_loader:\n",
    "        images = images.to(device)\n",
    "        labels = labels.to(device)\n",
    "        outputs = model(images)\n",
    "        _, predicted = torch.max(outputs.data, 1)\n",
    "        total += labels.size(0)\n",
    "        correct += (predicted == labels).sum().item()\n",
    "\n",
    "    print('Точность: {} %'.format(100 * correct / total))"
   ]
  },
  {
   "cell_type": "code",
   "execution_count": 10,
   "id": "80881df6-fe7f-4f4e-a536-2c7c3ac21a61",
   "metadata": {},
   "outputs": [
    {
     "name": "stdout",
     "output_type": "stream",
     "text": [
      "Точность для tensor(3, device='cuda:0') : 71 %\n",
      "Точность для tensor(5, device='cuda:0') : 76 %\n",
      "Точность для tensor(1, device='cuda:0') : 27 %\n",
      "Точность для tensor(7, device='cuda:0') : 38 %\n"
     ]
    }
   ],
   "source": [
    "class_correct = list(0. for i in range(10))\n",
    "class_total = list(0. for i in range(10))\n",
    "with torch.no_grad():\n",
    "    for data in test_loader:\n",
    "        images, labels = data\n",
    "        images = images.to(device)\n",
    "        labels = labels.to(device)\n",
    "        outputs = model(images)\n",
    "        _, predicted = torch.max(outputs, 1)\n",
    "        c = (predicted == labels).squeeze()\n",
    "        for i in range(4):\n",
    "            label = labels[i]\n",
    "            class_correct[label] += c[i].item()\n",
    "            class_total[label] += 1\n",
    "\n",
    "\n",
    "for i in range(4):\n",
    "    print('Точность для %5s : %2d %%' % (\n",
    "        labels[i], 100 * class_correct[i] / class_total[i]))"
   ]
  },
  {
   "cell_type": "code",
   "execution_count": null,
   "id": "a01fab17-bb00-49e4-b79d-3e832d4681dc",
   "metadata": {},
   "outputs": [],
   "source": []
  },
  {
   "cell_type": "code",
   "execution_count": null,
   "id": "6ec3f6f3-153b-432a-940d-5e2178716c8f",
   "metadata": {},
   "outputs": [],
   "source": []
  },
  {
   "cell_type": "markdown",
   "id": "0546d080-5d07-4d95-94bb-300d69ef4421",
   "metadata": {},
   "source": [
    "## Experiments"
   ]
  },
  {
   "cell_type": "code",
   "execution_count": null,
   "id": "457d0b4d-56e7-42b6-aa69-7c0d6d635872",
   "metadata": {},
   "outputs": [],
   "source": []
  },
  {
   "cell_type": "code",
   "execution_count": null,
   "id": "87891947-0b1f-4efb-a41c-a9a56759694a",
   "metadata": {},
   "outputs": [],
   "source": []
  },
  {
   "cell_type": "code",
   "execution_count": null,
   "id": "8aedcb6d-d996-4125-9d7a-e47637e93743",
   "metadata": {},
   "outputs": [],
   "source": []
  },
  {
   "cell_type": "markdown",
   "id": "78e9131b-15b3-4980-8a53-768ab48752a5",
   "metadata": {},
   "source": [
    "### Version-1"
   ]
  },
  {
   "cell_type": "markdown",
   "id": "2281b9b7-5737-424e-9aae-4c6d30cb989d",
   "metadata": {},
   "source": [
    "Изменения: \n",
    "\n",
    "- Увеличим кол-во эпох\n",
    "- Увеличим размер батча\n",
    "- Внёсем небольшие изменения ядра свёрточных слоёв"
   ]
  },
  {
   "cell_type": "code",
   "execution_count": 14,
   "id": "e66b8b5d-21be-45b7-8da2-532c56986baa",
   "metadata": {},
   "outputs": [],
   "source": [
    "INPUT_SIZE = 3 * 32 * 32   # Размер изображения в точках * количество цветов\n",
    "NUM_CLASSES = 10           # Количество распознающихся классов (10 видов изображений)\n",
    "N_EPOCHS = 5               # Количество эпох\n",
    "BATCH_SIZE = 8             # Размер мини-пакета входных данных\n",
    "LR = 0.001                 # Скорость обучения"
   ]
  },
  {
   "cell_type": "code",
   "execution_count": 15,
   "id": "ff3af3f2-a288-4442-9bb7-5fd37e97f162",
   "metadata": {},
   "outputs": [],
   "source": [
    "class FirstCNN(nn.Module):\n",
    "    def __init__(self):\n",
    "        super(FirstCNN, self).__init__()\n",
    "        self.conv1 = nn.Conv2d(in_channels=3, out_channels=8, kernel_size=5)\n",
    "        self.pool = nn.MaxPool2d(kernel_size=2, stride=2)\n",
    "        self.conv2 = nn.Conv2d(in_channels=8, out_channels=16, kernel_size=5)\n",
    "        self.fc1 = nn.Linear(16 * 5 * 5, 120)\n",
    "        self.fc2 = nn.Linear(120, 84)\n",
    "        self.fc3 = nn.Linear(84, 10)\n",
    "\n",
    "    def forward(self, x):\n",
    "        x = self.pool(F.relu(self.conv1(x)))\n",
    "        x = self.pool(F.relu(self.conv2(x)))\n",
    "        x = x.view(-1, 16 * 5 * 5)\n",
    "        x = F.relu(self.fc1(x))\n",
    "        x = F.relu(self.fc2(x))\n",
    "        x = self.fc3(x)\n",
    "        return x"
   ]
  },
  {
   "cell_type": "code",
   "execution_count": 17,
   "id": "d89d3119-46e7-408f-bab0-2f2583f4bc40",
   "metadata": {},
   "outputs": [
    {
     "name": "stdout",
     "output_type": "stream",
     "text": [
      "0.8782951831817627\n",
      "Total duration (minutes): 2.1349944432576495\n"
     ]
    }
   ],
   "source": [
    "start_time = time.time()\n",
    "\n",
    "model = FirstCNN()\n",
    "model.to(device)\n",
    "\n",
    "loss_fn = torch.nn.CrossEntropyLoss()\n",
    "optimizer = optim.Adam(model.parameters(), lr=LR)\n",
    "\n",
    "train_step = make_train_step(model, loss_fn, optimizer)\n",
    "\n",
    "epochs_loss = []\n",
    "for epoch in range(N_EPOCHS):\n",
    "    one_epoch_loss = []\n",
    "    for images, labels in train_loader:\n",
    "        images = images.to(device)\n",
    "        labels = labels.to(device)\n",
    "        loss = train_step(images, labels)\n",
    "        one_epoch_loss.append(loss)\n",
    "    epochs_loss.append(np.mean(one_epoch_loss))\n",
    "\n",
    "end_time = time.time() - start_time\n",
    "\n",
    "# print(model.state_dict())\n",
    "print(loss)\n",
    "print(\"Total duration (minutes):\", end_time / 60)"
   ]
  },
  {
   "cell_type": "code",
   "execution_count": 18,
   "id": "1d4d2a27-0391-4b18-9da9-e9a3618f4aad",
   "metadata": {},
   "outputs": [
    {
     "name": "stdout",
     "output_type": "stream",
     "text": [
      "Точность: 59.94 %\n"
     ]
    }
   ],
   "source": [
    "with torch.no_grad(): # проверяем на тестовой выборке\n",
    "    correct = 0\n",
    "    total = 0\n",
    "    for images, labels in test_loader:\n",
    "        images = images.to(device)\n",
    "        labels = labels.to(device)\n",
    "        outputs = model(images)\n",
    "        _, predicted = torch.max(outputs.data, 1)\n",
    "        total += labels.size(0)\n",
    "        correct += (predicted == labels).sum().item()\n",
    "\n",
    "    print('Точность: {} %'.format(100 * correct / total))"
   ]
  },
  {
   "cell_type": "code",
   "execution_count": 19,
   "id": "49d6ef47-e840-4eda-aac4-7c163408cd2f",
   "metadata": {},
   "outputs": [
    {
     "name": "stdout",
     "output_type": "stream",
     "text": [
      "Точность для tensor(3, device='cuda:0') : 58 %\n",
      "Точность для tensor(5, device='cuda:0') : 57 %\n",
      "Точность для tensor(1, device='cuda:0') : 41 %\n",
      "Точность для tensor(7, device='cuda:0') : 37 %\n"
     ]
    }
   ],
   "source": [
    "class_correct = list(0. for i in range(10))\n",
    "class_total = list(0. for i in range(10))\n",
    "with torch.no_grad():\n",
    "    for data in test_loader:\n",
    "        images, labels = data\n",
    "        images = images.to(device)\n",
    "        labels = labels.to(device)\n",
    "        outputs = model(images)\n",
    "        _, predicted = torch.max(outputs, 1)\n",
    "        c = (predicted == labels).squeeze()\n",
    "        for i in range(4):\n",
    "            label = labels[i]\n",
    "            class_correct[label] += c[i].item()\n",
    "            class_total[label] += 1\n",
    "\n",
    "\n",
    "for i in range(4):\n",
    "    print('Точность для %5s : %2d %%' % (\n",
    "        labels[i], 100 * class_correct[i] / class_total[i]))"
   ]
  },
  {
   "cell_type": "code",
   "execution_count": 21,
   "id": "e879ef90-7587-40dd-b4dc-e09ba531eff8",
   "metadata": {},
   "outputs": [
    {
     "data": {
      "image/png": "[encoded data removed]",
      "text/plain": [
       "<Figure size 800x400 with 1 Axes>"
      ]
     },
     "metadata": {},
     "output_type": "display_data"
    }
   ],
   "source": [
    "plot_learning_curve(epochs_loss)"
   ]
  },
  {
   "cell_type": "code",
   "execution_count": null,
   "id": "ce4c6121-66fa-4baa-a6fc-62f6ae88cdc0",
   "metadata": {},
   "outputs": [],
   "source": []
  },
  {
   "cell_type": "code",
   "execution_count": null,
   "id": "0192dfb6-3cae-4a7f-abc0-89b5e6f898f8",
   "metadata": {},
   "outputs": [],
   "source": []
  },
  {
   "cell_type": "markdown",
   "id": "3477caed-fca4-422f-b5d7-6b9ea261b998",
   "metadata": {},
   "source": [
    "### Version-2"
   ]
  },
  {
   "cell_type": "code",
   "execution_count": 24,
   "id": "1efbd0b8-3b2b-47f7-87e2-f0fc494943ea",
   "metadata": {},
   "outputs": [],
   "source": [
    "INPUT_SIZE = 3 * 32 * 32   # Размер изображения в точках * количество цветов\n",
    "NUM_CLASSES = 10           # Количество распознающихся классов (10 видов изображений)\n",
    "N_EPOCHS = 5               # Количество эпох\n",
    "BATCH_SIZE = 8             # Размер мини-пакета входных данных\n",
    "LR = 0.001                 # Скорость обучения"
   ]
  },
  {
   "cell_type": "code",
   "execution_count": 25,
   "id": "fd8a7483-5536-435c-a259-1603e3154b5e",
   "metadata": {},
   "outputs": [],
   "source": [
    "class SecondCNN(nn.Module):\n",
    "    def __init__(self):\n",
    "        super(SecondCNN, self).__init__()\n",
    "        self.network = nn.Sequential(\n",
    "            nn.Conv2d(3, 32, kernel_size=3, padding=1),\n",
    "            nn.ReLU(),\n",
    "            nn.Conv2d(32, 64, kernel_size=3, stride=1, padding=1),\n",
    "            nn.ReLU(),\n",
    "            nn.MaxPool2d(2, 2),\n",
    "\n",
    "            nn.Conv2d(64, 128, kernel_size=3, stride=1, padding=1),\n",
    "            nn.ReLU(),\n",
    "            nn.Conv2d(128, 128, kernel_size=3, stride=1, padding=1),\n",
    "            nn.ReLU(),\n",
    "            nn.MaxPool2d(2, 2),\n",
    "\n",
    "            nn.Conv2d(128, 256, kernel_size=3, stride=1, padding=1),\n",
    "            nn.ReLU(),\n",
    "            nn.Conv2d(256, 256, kernel_size=3, stride=1, padding=1),\n",
    "            nn.ReLU(),\n",
    "            nn.MaxPool2d(2, 2),\n",
    "\n",
    "            nn.Flatten(), \n",
    "            nn.Linear(256*4*4, 1024),\n",
    "            nn.ReLU(),\n",
    "            nn.Linear(1024, 512),\n",
    "            nn.ReLU(),\n",
    "            nn.Linear(512, 10)\n",
    "        )\n",
    "        \n",
    "    def forward(self, xb):\n",
    "        return self.network(xb)"
   ]
  },
  {
   "cell_type": "code",
   "execution_count": 26,
   "id": "b5be209d-ab50-437b-8734-3b9db5e25ea2",
   "metadata": {},
   "outputs": [
    {
     "name": "stdout",
     "output_type": "stream",
     "text": [
      "2.083653450012207\n",
      "Total duration (minutes): 3.4213518102963767\n"
     ]
    }
   ],
   "source": [
    "start_time = time.time()\n",
    "\n",
    "model = SecondCNN()\n",
    "model.to(device)\n",
    "\n",
    "loss_fn = torch.nn.CrossEntropyLoss()\n",
    "optimizer = optim.Adam(model.parameters(), lr=LR)\n",
    "\n",
    "train_step = make_train_step(model, loss_fn, optimizer)\n",
    "\n",
    "for epoch in range(N_EPOCHS):\n",
    "    for images, labels in train_loader:\n",
    "        images = images.to(device)\n",
    "        labels = labels.to(device)\n",
    "        loss = train_step(images, labels)\n",
    "\n",
    "end_time = time.time() - start_time\n",
    "\n",
    "# print(model.state_dict())\n",
    "print(loss)\n",
    "print(\"Total duration (minutes):\", end_time / 60)"
   ]
  },
  {
   "cell_type": "code",
   "execution_count": 27,
   "id": "93ef97f9-7397-4941-90e5-e9ecaf2a0b14",
   "metadata": {},
   "outputs": [
    {
     "name": "stdout",
     "output_type": "stream",
     "text": [
      "Точность: 64.13 %\n"
     ]
    }
   ],
   "source": [
    "with torch.no_grad(): # проверяем на тестовой выборке\n",
    "    correct = 0\n",
    "    total = 0\n",
    "    for images, labels in test_loader:\n",
    "        images = images.to(device)\n",
    "        labels = labels.to(device)\n",
    "        outputs = model(images)\n",
    "        _, predicted = torch.max(outputs.data, 1)\n",
    "        total += labels.size(0)\n",
    "        correct += (predicted == labels).sum().item()\n",
    "\n",
    "    print('Точность: {} %'.format(100 * correct / total))"
   ]
  },
  {
   "cell_type": "code",
   "execution_count": 28,
   "id": "2342f633-7f6c-4819-b22a-4f73726b7ec7",
   "metadata": {},
   "outputs": [
    {
     "name": "stdout",
     "output_type": "stream",
     "text": [
      "Точность для tensor(3, device='cuda:0') : 62 %\n",
      "Точность для tensor(5, device='cuda:0') : 78 %\n",
      "Точность для tensor(1, device='cuda:0') : 44 %\n",
      "Точность для tensor(7, device='cuda:0') : 63 %\n"
     ]
    }
   ],
   "source": [
    "class_correct = list(0. for i in range(10))\n",
    "class_total = list(0. for i in range(10))\n",
    "with torch.no_grad():\n",
    "    for data in test_loader:\n",
    "        images, labels = data\n",
    "        images = images.to(device)\n",
    "        labels = labels.to(device)\n",
    "        outputs = model(images)\n",
    "        _, predicted = torch.max(outputs, 1)\n",
    "        c = (predicted == labels).squeeze()\n",
    "        for i in range(4):\n",
    "            label = labels[i]\n",
    "            class_correct[label] += c[i].item()\n",
    "            class_total[label] += 1\n",
    "\n",
    "\n",
    "for i in range(4):\n",
    "    print('Точность для %5s : %2d %%' % (\n",
    "        labels[i], 100 * class_correct[i] / class_total[i]))"
   ]
  },
  {
   "cell_type": "code",
   "execution_count": null,
   "id": "df9718d2-0eb6-4763-b4ce-fde4124623ac",
   "metadata": {},
   "outputs": [],
   "source": []
  },
  {
   "cell_type": "code",
   "execution_count": null,
   "id": "04f6a0a2-7fc4-4370-a699-a000e8962061",
   "metadata": {},
   "outputs": [],
   "source": []
  },
  {
   "cell_type": "markdown",
   "id": "8cc350b0-cde3-4c90-bb2c-fea2640377e9",
   "metadata": {},
   "source": [
    "### Version-3"
   ]
  },
  {
   "cell_type": "code",
   "execution_count": null,
   "id": "0b172b96-f5cc-4e77-a6c9-e3e9e990b65e",
   "metadata": {},
   "outputs": [],
   "source": [
    "INPUT_SIZE = 3 * 32 * 32   # Размер изображения в точках * количество цветов\n",
    "NUM_CLASSES = 10           # Количество распознающихся классов (10 видов изображений)\n",
    "N_EPOCHS = 5               # Количество эпох\n",
    "BATCH_SIZE = 8             # Размер мини-пакета входных данных\n",
    "LR = 0.001                 # Скорость обучения"
   ]
  },
  {
   "cell_type": "code",
   "execution_count": 35,
   "id": "0f5f5d0b-f2f3-4caf-871c-fe2f12099d8c",
   "metadata": {},
   "outputs": [],
   "source": [
    "class CifarModel(nn.Module):\n",
    "    def __init__(self):\n",
    "        super(CifarModel, self).__init__()\n",
    "        self.conv1 = nn.Conv2d(in_channels=3, out_channels=6, kernel_size=5)\n",
    "        self.pool = nn.MaxPool2d(kernel_size=2, stride=2)\n",
    "        self.conv2 = nn.Conv2d(in_channels=6, out_channels=16, kernel_size=5)\n",
    "        self.fc1 = nn.Linear(16 * 5 * 5, 120)\n",
    "        self.fc2 = nn.Linear(120, 84)\n",
    "        self.fc3 = nn.Linear(84, 10)\n",
    "\n",
    "    def forward(self, x):\n",
    "        x = self.pool(F.relu(self.conv1(x)))\n",
    "        x = self.pool(F.relu(self.conv2(x)))\n",
    "        x = x.view(-1, 16 * 5 * 5)\n",
    "        x = F.relu(self.fc1(x))\n",
    "        x = F.relu(self.fc2(x))\n",
    "        x = self.fc3(x)\n",
    "        return x"
   ]
  },
  {
   "cell_type": "code",
   "execution_count": 43,
   "id": "75e64c05-718f-4982-8ea5-94b1019189de",
   "metadata": {},
   "outputs": [],
   "source": [
    "class ThirdCNN(nn.Module):\n",
    "    def __init__(self):\n",
    "        super(ThirdCNN, self).__init__()\n",
    "        self.conv1 = nn.Conv2d(in_channels=3, out_channels=32, kernel_size=3, stride=1, padding=1) \n",
    "        self.conv2 = nn.Conv2d(in_channels=32, out_channels=64, kernel_size=3, stride=1, padding=1)  \n",
    "        self.conv3 = nn.Conv2d(in_channels=64, out_channels=128, kernel_size=3, stride=1, padding=1)\n",
    "        self.pool = nn.MaxPool2d(kernel_size=2, stride=2, padding=0)\n",
    "        self.fc1 = nn.Linear(128 * 4 * 4, 512)\n",
    "        self.fc2 = nn.Linear(512, 10)\n",
    "        \n",
    "    def forward(self, x):\n",
    "        x = self.pool(F.relu(self.conv1(x)))\n",
    "        x = self.pool(F.relu(self.conv2(x)))\n",
    "        x = self.pool(F.relu(self.conv3(x)))\n",
    "        x = x.view(-1, 128 * 4 * 4)\n",
    "        x = F.relu(self.fc1(x))\n",
    "        x = self.fc2(x)\n",
    "        return x"
   ]
  },
  {
   "cell_type": "code",
   "execution_count": 44,
   "id": "377d8c30-08e8-476b-8ffa-b1b18194f63c",
   "metadata": {},
   "outputs": [
    {
     "name": "stdout",
     "output_type": "stream",
     "text": [
      "0.8637257218360901\n",
      "Total duration (minutes): 2.3236048460006713\n"
     ]
    }
   ],
   "source": [
    "start_time = time.time()\n",
    "\n",
    "model = ThirdCNN()\n",
    "model.to(device)\n",
    "\n",
    "loss_fn = torch.nn.CrossEntropyLoss()\n",
    "optimizer = optim.Adam(model.parameters(), lr=LR)\n",
    "\n",
    "train_step = make_train_step(model, loss_fn, optimizer)\n",
    "\n",
    "for epoch in range(N_EPOCHS):\n",
    "    for images, labels in train_loader:\n",
    "        images = images.to(device)\n",
    "        labels = labels.to(device)\n",
    "        loss = train_step(images, labels)\n",
    "\n",
    "end_time = time.time() - start_time\n",
    "\n",
    "# print(model.state_dict())\n",
    "print(loss)\n",
    "print(\"Total duration (minutes):\", end_time / 60)"
   ]
  },
  {
   "cell_type": "code",
   "execution_count": 45,
   "id": "11fe3702-1de3-455b-8ceb-1e743fe1f680",
   "metadata": {},
   "outputs": [
    {
     "name": "stdout",
     "output_type": "stream",
     "text": [
      "Точность: 70.49 %\n"
     ]
    }
   ],
   "source": [
    "with torch.no_grad(): # проверяем на тестовой выборке\n",
    "    correct = 0\n",
    "    total = 0\n",
    "    for images, labels in test_loader:\n",
    "        images = images.to(device)\n",
    "        labels = labels.to(device)\n",
    "        outputs = model(images)\n",
    "        _, predicted = torch.max(outputs.data, 1)\n",
    "        total += labels.size(0)\n",
    "        correct += (predicted == labels).sum().item()\n",
    "\n",
    "    print('Точность: {} %'.format(100 * correct / total))"
   ]
  },
  {
   "cell_type": "code",
   "execution_count": 46,
   "id": "57839757-5fc4-44a0-9eb2-4564d901e37b",
   "metadata": {},
   "outputs": [
    {
     "name": "stdout",
     "output_type": "stream",
     "text": [
      "Точность для tensor(3, device='cuda:0') : 66 %\n",
      "Точность для tensor(5, device='cuda:0') : 85 %\n",
      "Точность для tensor(1, device='cuda:0') : 58 %\n",
      "Точность для tensor(7, device='cuda:0') : 54 %\n"
     ]
    }
   ],
   "source": [
    "class_correct = list(0. for i in range(10))\n",
    "class_total = list(0. for i in range(10))\n",
    "with torch.no_grad():\n",
    "    for data in test_loader:\n",
    "        images, labels = data\n",
    "        images = images.to(device)\n",
    "        labels = labels.to(device)\n",
    "        outputs = model(images)\n",
    "        _, predicted = torch.max(outputs, 1)\n",
    "        c = (predicted == labels).squeeze()\n",
    "        for i in range(4):\n",
    "            label = labels[i]\n",
    "            class_correct[label] += c[i].item()\n",
    "            class_total[label] += 1\n",
    "\n",
    "\n",
    "for i in range(4):\n",
    "    print('Точность для %5s : %2d %%' % (\n",
    "        labels[i], 100 * class_correct[i] / class_total[i]))"
   ]
  },
  {
   "cell_type": "code",
   "execution_count": null,
   "id": "ac7a4c3f-9d86-43d1-b607-a440638c9d74",
   "metadata": {},
   "outputs": [],
   "source": []
  },
  {
   "cell_type": "code",
   "execution_count": null,
   "id": "f582a358-8287-4f9e-bd3d-711eec16d2f1",
   "metadata": {},
   "outputs": [],
   "source": []
  },
  {
   "cell_type": "code",
   "execution_count": null,
   "id": "384fdb67-bc59-4577-a8a4-db3bdb10b214",
   "metadata": {},
   "outputs": [],
   "source": []
  }
 ],
 "metadata": {
  "kernelspec": {
   "display_name": "Python 3 (ipykernel)",
   "language": "python",
   "name": "python3"
  },
  "language_info": {
   "codemirror_mode": {
    "name": "ipython",
    "version": 3
   },
   "file_extension": ".py",
   "mimetype": "text/x-python",
   "name": "python",
   "nbconvert_exporter": "python",
   "pygments_lexer": "ipython3",
   "version": "3.10.12"
  }
 },
 "nbformat": 4,
 "nbformat_minor": 5
}
